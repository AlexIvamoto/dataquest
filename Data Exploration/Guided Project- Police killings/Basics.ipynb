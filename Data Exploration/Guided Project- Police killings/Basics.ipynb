{
 "cells": [
  {
   "cell_type": "code",
   "execution_count": 1,
   "metadata": {
    "collapsed": true
   },
   "outputs": [],
   "source": [
    "import pandas as pd\n",
    "import matplotlib.pyplot as plt\n",
    "import seaborn as sns\n",
    "%matplotlib inline"
   ]
  },
  {
   "cell_type": "code",
   "execution_count": 2,
   "metadata": {
    "collapsed": false
   },
   "outputs": [
    {
     "data": {
      "text/html": [
       "<div style=\"max-height:1000px;max-width:1500px;overflow:auto;\">\n",
       "<table border=\"1\" class=\"dataframe\">\n",
       "  <thead>\n",
       "    <tr style=\"text-align: right;\">\n",
       "      <th></th>\n",
       "      <th>name</th>\n",
       "      <th>age</th>\n",
       "      <th>gender</th>\n",
       "      <th>raceethnicity</th>\n",
       "      <th>month</th>\n",
       "      <th>day</th>\n",
       "      <th>year</th>\n",
       "      <th>streetaddress</th>\n",
       "      <th>city</th>\n",
       "      <th>state</th>\n",
       "      <th>...</th>\n",
       "      <th>share_hispanic</th>\n",
       "      <th>p_income</th>\n",
       "      <th>h_income</th>\n",
       "      <th>county_income</th>\n",
       "      <th>comp_income</th>\n",
       "      <th>county_bucket</th>\n",
       "      <th>nat_bucket</th>\n",
       "      <th>pov</th>\n",
       "      <th>urate</th>\n",
       "      <th>college</th>\n",
       "    </tr>\n",
       "  </thead>\n",
       "  <tbody>\n",
       "    <tr>\n",
       "      <th>0</th>\n",
       "      <td> A'donte Washington</td>\n",
       "      <td> 16</td>\n",
       "      <td> Male</td>\n",
       "      <td>           Black</td>\n",
       "      <td> February</td>\n",
       "      <td> 23</td>\n",
       "      <td> 2015</td>\n",
       "      <td>           Clearview Ln</td>\n",
       "      <td>    Millbrook</td>\n",
       "      <td> AL</td>\n",
       "      <td>...</td>\n",
       "      <td>  5.6</td>\n",
       "      <td> 28375</td>\n",
       "      <td> 51367</td>\n",
       "      <td> 54766</td>\n",
       "      <td> 0.937936</td>\n",
       "      <td> 3</td>\n",
       "      <td> 3</td>\n",
       "      <td> 14.1</td>\n",
       "      <td> 0.097686</td>\n",
       "      <td> 0.168510</td>\n",
       "    </tr>\n",
       "    <tr>\n",
       "      <th>1</th>\n",
       "      <td>     Aaron Rutledge</td>\n",
       "      <td> 27</td>\n",
       "      <td> Male</td>\n",
       "      <td>           White</td>\n",
       "      <td>    April</td>\n",
       "      <td>  2</td>\n",
       "      <td> 2015</td>\n",
       "      <td> 300 block Iris Park Dr</td>\n",
       "      <td>    Pineville</td>\n",
       "      <td> LA</td>\n",
       "      <td>...</td>\n",
       "      <td>  0.5</td>\n",
       "      <td> 14678</td>\n",
       "      <td> 27972</td>\n",
       "      <td> 40930</td>\n",
       "      <td> 0.683411</td>\n",
       "      <td> 2</td>\n",
       "      <td> 1</td>\n",
       "      <td> 28.8</td>\n",
       "      <td> 0.065724</td>\n",
       "      <td> 0.111402</td>\n",
       "    </tr>\n",
       "    <tr>\n",
       "      <th>2</th>\n",
       "      <td>        Aaron Siler</td>\n",
       "      <td> 26</td>\n",
       "      <td> Male</td>\n",
       "      <td>           White</td>\n",
       "      <td>    March</td>\n",
       "      <td> 14</td>\n",
       "      <td> 2015</td>\n",
       "      <td>   22nd Ave and 56th St</td>\n",
       "      <td>      Kenosha</td>\n",
       "      <td> WI</td>\n",
       "      <td>...</td>\n",
       "      <td> 16.8</td>\n",
       "      <td> 25286</td>\n",
       "      <td> 45365</td>\n",
       "      <td> 54930</td>\n",
       "      <td> 0.825869</td>\n",
       "      <td> 2</td>\n",
       "      <td> 3</td>\n",
       "      <td> 14.6</td>\n",
       "      <td> 0.166293</td>\n",
       "      <td> 0.147312</td>\n",
       "    </tr>\n",
       "    <tr>\n",
       "      <th>3</th>\n",
       "      <td>       Aaron Valdez</td>\n",
       "      <td> 25</td>\n",
       "      <td> Male</td>\n",
       "      <td> Hispanic/Latino</td>\n",
       "      <td>    March</td>\n",
       "      <td> 11</td>\n",
       "      <td> 2015</td>\n",
       "      <td>      3000 Seminole Ave</td>\n",
       "      <td>   South Gate</td>\n",
       "      <td> CA</td>\n",
       "      <td>...</td>\n",
       "      <td> 98.8</td>\n",
       "      <td> 17194</td>\n",
       "      <td> 48295</td>\n",
       "      <td> 55909</td>\n",
       "      <td> 0.863814</td>\n",
       "      <td> 3</td>\n",
       "      <td> 3</td>\n",
       "      <td> 11.7</td>\n",
       "      <td> 0.124827</td>\n",
       "      <td> 0.050133</td>\n",
       "    </tr>\n",
       "    <tr>\n",
       "      <th>4</th>\n",
       "      <td>       Adam Jovicic</td>\n",
       "      <td> 29</td>\n",
       "      <td> Male</td>\n",
       "      <td>           White</td>\n",
       "      <td>    March</td>\n",
       "      <td> 19</td>\n",
       "      <td> 2015</td>\n",
       "      <td>         364 Hiwood Ave</td>\n",
       "      <td> Munroe Falls</td>\n",
       "      <td> OH</td>\n",
       "      <td>...</td>\n",
       "      <td>  1.7</td>\n",
       "      <td> 33954</td>\n",
       "      <td> 68785</td>\n",
       "      <td> 49669</td>\n",
       "      <td> 1.384868</td>\n",
       "      <td> 5</td>\n",
       "      <td> 4</td>\n",
       "      <td>  1.9</td>\n",
       "      <td> 0.063550</td>\n",
       "      <td> 0.403954</td>\n",
       "    </tr>\n",
       "  </tbody>\n",
       "</table>\n",
       "<p>5 rows × 34 columns</p>\n",
       "</div>"
      ],
      "text/plain": [
       "                 name age gender    raceethnicity     month  day  year  \\\n",
       "0  A'donte Washington  16   Male            Black  February   23  2015   \n",
       "1      Aaron Rutledge  27   Male            White     April    2  2015   \n",
       "2         Aaron Siler  26   Male            White     March   14  2015   \n",
       "3        Aaron Valdez  25   Male  Hispanic/Latino     March   11  2015   \n",
       "4        Adam Jovicic  29   Male            White     March   19  2015   \n",
       "\n",
       "            streetaddress          city state    ...     share_hispanic  \\\n",
       "0            Clearview Ln     Millbrook    AL    ...                5.6   \n",
       "1  300 block Iris Park Dr     Pineville    LA    ...                0.5   \n",
       "2    22nd Ave and 56th St       Kenosha    WI    ...               16.8   \n",
       "3       3000 Seminole Ave    South Gate    CA    ...               98.8   \n",
       "4          364 Hiwood Ave  Munroe Falls    OH    ...                1.7   \n",
       "\n",
       "   p_income  h_income  county_income  comp_income  county_bucket  nat_bucket  \\\n",
       "0     28375     51367          54766     0.937936              3           3   \n",
       "1     14678     27972          40930     0.683411              2           1   \n",
       "2     25286     45365          54930     0.825869              2           3   \n",
       "3     17194     48295          55909     0.863814              3           3   \n",
       "4     33954     68785          49669     1.384868              5           4   \n",
       "\n",
       "    pov     urate   college  \n",
       "0  14.1  0.097686  0.168510  \n",
       "1  28.8  0.065724  0.111402  \n",
       "2  14.6  0.166293  0.147312  \n",
       "3  11.7  0.124827  0.050133  \n",
       "4   1.9  0.063550  0.403954  \n",
       "\n",
       "[5 rows x 34 columns]"
      ]
     },
     "execution_count": 2,
     "metadata": {},
     "output_type": "execute_result"
    }
   ],
   "source": [
    "police_killings = pd.read_csv('police_killings.csv', encoding='ISO-8859-1')\n",
    "police_killings.head()"
   ]
  },
  {
   "cell_type": "code",
   "execution_count": 3,
   "metadata": {
    "collapsed": false
   },
   "outputs": [
    {
     "data": {
      "text/plain": [
       "(467, 34)"
      ]
     },
     "execution_count": 3,
     "metadata": {},
     "output_type": "execute_result"
    }
   ],
   "source": [
    "police_killings.shape"
   ]
  },
  {
   "cell_type": "code",
   "execution_count": 4,
   "metadata": {
    "collapsed": false
   },
   "outputs": [
    {
     "data": {
      "text/plain": [
       "Index(['name', 'age', 'gender', 'raceethnicity', 'month', 'day', 'year', 'streetaddress', 'city', 'state', 'latitude', 'longitude', 'state_fp', 'county_fp', 'tract_ce', 'geo_id', 'county_id', 'namelsad', 'lawenforcementagency', 'cause', 'armed', 'pop', 'share_white', 'share_black', 'share_hispanic', 'p_income', 'h_income', 'county_income', 'comp_income', 'county_bucket', 'nat_bucket', 'pov', 'urate', 'college'], dtype='object')"
      ]
     },
     "execution_count": 4,
     "metadata": {},
     "output_type": "execute_result"
    }
   ],
   "source": [
    "police_killings.columns"
   ]
  },
  {
   "cell_type": "code",
   "execution_count": 5,
   "metadata": {
    "collapsed": false
   },
   "outputs": [
    {
     "data": {
      "text/plain": [
       "name                     object\n",
       "age                      object\n",
       "gender                   object\n",
       "raceethnicity            object\n",
       "month                    object\n",
       "day                       int64\n",
       "year                      int64\n",
       "streetaddress            object\n",
       "city                     object\n",
       "state                    object\n",
       "latitude                float64\n",
       "longitude               float64\n",
       "state_fp                  int64\n",
       "county_fp                 int64\n",
       "tract_ce                  int64\n",
       "geo_id                    int64\n",
       "county_id                 int64\n",
       "namelsad                 object\n",
       "lawenforcementagency     object\n",
       "cause                    object\n",
       "armed                    object\n",
       "pop                       int64\n",
       "share_white              object\n",
       "share_black              object\n",
       "share_hispanic           object\n",
       "p_income                 object\n",
       "h_income                float64\n",
       "county_income             int64\n",
       "comp_income             float64\n",
       "county_bucket           float64\n",
       "nat_bucket              float64\n",
       "pov                      object\n",
       "urate                   float64\n",
       "college                 float64\n",
       "dtype: object"
      ]
     },
     "execution_count": 5,
     "metadata": {},
     "output_type": "execute_result"
    }
   ],
   "source": [
    "police_killings.dtypes"
   ]
  },
  {
   "cell_type": "code",
   "execution_count": 6,
   "metadata": {
    "collapsed": false
   },
   "outputs": [
    {
     "data": {
      "text/plain": [
       "White                     236\n",
       "Black                     135\n",
       "Hispanic/Latino            67\n",
       "Unknown                    15\n",
       "Asian/Pacific Islander     10\n",
       "Native American             4\n",
       "dtype: int64"
      ]
     },
     "execution_count": 6,
     "metadata": {},
     "output_type": "execute_result"
    }
   ],
   "source": [
    "police_killings['raceethnicity'].value_counts()"
   ]
  },
  {
   "cell_type": "code",
   "execution_count": 7,
   "metadata": {
    "collapsed": false
   },
   "outputs": [
    {
     "data": {
      "image/png": "[encoded data removed]",
      "text/plain": [
       "<matplotlib.figure.Figure at 0x7f4fb6adb7b8>"
      ]
     },
     "metadata": {},
     "output_type": "display_data"
    }
   ],
   "source": [
    "race_killings = police_killings['raceethnicity'].value_counts()\n",
    "race_killings.plot(kind='bar')\n",
    "sns.plt.show()"
   ]
  },
  {
   "cell_type": "code",
   "execution_count": 8,
   "metadata": {
    "collapsed": false
   },
   "outputs": [
    {
     "data": {
      "text/plain": [
       "Asian/Pacific Islander     4.9\n",
       "Black                     12.2\n",
       "Hispanic/Latino           16.3\n",
       "Native American            0.7\n",
       "Unknown                    2.1\n",
       "White                     63.7\n",
       "dtype: float64"
      ]
     },
     "execution_count": 8,
     "metadata": {},
     "output_type": "execute_result"
    }
   ],
   "source": [
    "race_percentage = pd.Series({'White': 63.7, 'Black': 12.2, 'Hispanic/Latino': 16.3, 'Asian/Pacific Islander': 4.9, 'Native American': 0.7, 'Unknown': 2.1})\n",
    "race_percentage"
   ]
  },
  {
   "cell_type": "code",
   "execution_count": 9,
   "metadata": {
    "collapsed": false
   },
   "outputs": [
    {
     "data": {
      "text/html": [
       "<div style=\"max-height:1000px;max-width:1500px;overflow:auto;\">\n",
       "<table border=\"1\" class=\"dataframe\">\n",
       "  <thead>\n",
       "    <tr style=\"text-align: right;\">\n",
       "      <th></th>\n",
       "      <th>race_killings</th>\n",
       "      <th>race_percentage</th>\n",
       "    </tr>\n",
       "  </thead>\n",
       "  <tbody>\n",
       "    <tr>\n",
       "      <th>Asian/Pacific Islander</th>\n",
       "      <td>  10</td>\n",
       "      <td>  4.9</td>\n",
       "    </tr>\n",
       "    <tr>\n",
       "      <th>Black</th>\n",
       "      <td> 135</td>\n",
       "      <td> 12.2</td>\n",
       "    </tr>\n",
       "    <tr>\n",
       "      <th>Hispanic/Latino</th>\n",
       "      <td>  67</td>\n",
       "      <td> 16.3</td>\n",
       "    </tr>\n",
       "    <tr>\n",
       "      <th>Native American</th>\n",
       "      <td>   4</td>\n",
       "      <td>  0.7</td>\n",
       "    </tr>\n",
       "    <tr>\n",
       "      <th>Unknown</th>\n",
       "      <td>  15</td>\n",
       "      <td>  2.1</td>\n",
       "    </tr>\n",
       "    <tr>\n",
       "      <th>White</th>\n",
       "      <td> 236</td>\n",
       "      <td> 63.7</td>\n",
       "    </tr>\n",
       "  </tbody>\n",
       "</table>\n",
       "</div>"
      ],
      "text/plain": [
       "                        race_killings  race_percentage\n",
       "Asian/Pacific Islander             10              4.9\n",
       "Black                             135             12.2\n",
       "Hispanic/Latino                    67             16.3\n",
       "Native American                     4              0.7\n",
       "Unknown                            15              2.1\n",
       "White                             236             63.7"
      ]
     },
     "execution_count": 9,
     "metadata": {},
     "output_type": "execute_result"
    }
   ],
   "source": [
    "race_combined = pd.DataFrame({'race_killings': race_killings, 'race_percentage': race_percentage})\n",
    "race_combined"
   ]
  },
  {
   "cell_type": "code",
   "execution_count": 10,
   "metadata": {
    "collapsed": false
   },
   "outputs": [
    {
     "data": {
      "image/png": "[encoded data removed]",
      "text/plain": [
       "<matplotlib.figure.Figure at 0x7f4fb6a089e8>"
      ]
     },
     "metadata": {},
     "output_type": "display_data"
    }
   ],
   "source": [
    "race_combined.plot(kind='bar')\n",
    "sns.plt.show()"
   ]
  },
  {
   "cell_type": "code",
   "execution_count": 11,
   "metadata": {
    "collapsed": false
   },
   "outputs": [
    {
     "data": {
      "text/plain": [
       "Asian/Pacific Islander     2.040816\n",
       "Black                     11.065574\n",
       "Hispanic/Latino            4.110429\n",
       "Native American            5.714286\n",
       "Unknown                    7.142857\n",
       "White                      3.704867\n",
       "dtype: float64"
      ]
     },
     "execution_count": 11,
     "metadata": {},
     "output_type": "execute_result"
    }
   ],
   "source": [
    "race_killed_ratio = race_killings / race_percentage\n",
    "race_killed_ratio"
   ]
  },
  {
   "cell_type": "code",
   "execution_count": 12,
   "metadata": {
    "collapsed": false
   },
   "outputs": [
    {
     "data": {
      "image/png": "[encoded data removed]",
      "text/plain": [
       "<matplotlib.figure.Figure at 0x7f4fb69908d0>"
      ]
     },
     "metadata": {},
     "output_type": "display_data"
    }
   ],
   "source": [
    "race_killed_ratio.plot(kind='bar')\n",
    "sns.plt.show()"
   ]
  },
  {
   "cell_type": "code",
   "execution_count": 13,
   "metadata": {
    "collapsed": false
   },
   "outputs": [
    {
     "data": {
      "text/plain": [
       "0    28375\n",
       "1    14678\n",
       "2    25286\n",
       "3    17194\n",
       "4    33954\n",
       "Name: p_income, dtype: int64"
      ]
     },
     "execution_count": 13,
     "metadata": {},
     "output_type": "execute_result"
    }
   ],
   "source": [
    "p_income = police_killings[police_killings['p_income'] != '-']['p_income'].astype(int)\n",
    "p_income.head()"
   ]
  },
  {
   "cell_type": "code",
   "execution_count": 14,
   "metadata": {
    "collapsed": false
   },
   "outputs": [
    {
     "data": {
      "image/png": "[encoded data removed]",
      "text/plain": [
       "<matplotlib.figure.Figure at 0x7f4fb68f8438>"
      ]
     },
     "metadata": {},
     "output_type": "display_data"
    }
   ],
   "source": [
    "p_income.hist(bins=100)\n",
    "plt.axvline(28851, color='r', linestyle='dashed', linewidth=2)\n",
    "sns.plt.show()"
   ]
  },
  {
   "cell_type": "code",
   "execution_count": 15,
   "metadata": {
    "collapsed": false
   },
   "outputs": [
    {
     "data": {
      "text/plain": [
       "0    51367\n",
       "1    27972\n",
       "2    45365\n",
       "3    48295\n",
       "4    68785\n",
       "Name: h_income, dtype: float64"
      ]
     },
     "execution_count": 15,
     "metadata": {},
     "output_type": "execute_result"
    }
   ],
   "source": [
    "h_income = police_killings['h_income']\n",
    "h_income.head()"
   ]
  },
  {
   "cell_type": "code",
   "execution_count": 16,
   "metadata": {
    "collapsed": false
   },
   "outputs": [
    {
     "data": {
      "image/png": "[encoded data removed]",
      "text/plain": [
       "<matplotlib.figure.Figure at 0x7f4fb6700a58>"
      ]
     },
     "metadata": {},
     "output_type": "display_data"
    }
   ],
   "source": [
    "h_income.hist(bins=100)\n",
    "plt.axvline(53657, color='r', linestyle='dashed', linewidth=2)\n",
    "sns.plt.show()"
   ]
  },
  {
   "cell_type": "code",
   "execution_count": 17,
   "metadata": {
    "collapsed": false
   },
   "outputs": [
    {
     "data": {
      "text/html": [
       "<div style=\"max-height:1000px;max-width:1500px;overflow:auto;\">\n",
       "<table border=\"1\" class=\"dataframe\">\n",
       "  <thead>\n",
       "    <tr style=\"text-align: right;\">\n",
       "      <th></th>\n",
       "      <th>SUMLEV</th>\n",
       "      <th>REGION</th>\n",
       "      <th>DIVISION</th>\n",
       "      <th>STATE</th>\n",
       "      <th>NAME</th>\n",
       "      <th>POPESTIMATE2015</th>\n",
       "      <th>POPEST18PLUS2015</th>\n",
       "      <th>PCNT_POPEST18PLUS</th>\n",
       "    </tr>\n",
       "  </thead>\n",
       "  <tbody>\n",
       "    <tr>\n",
       "      <th>0</th>\n",
       "      <td> 10</td>\n",
       "      <td> 0</td>\n",
       "      <td> 0</td>\n",
       "      <td> 0</td>\n",
       "      <td> United States</td>\n",
       "      <td> 321418820</td>\n",
       "      <td> 247773709</td>\n",
       "      <td> 77.1</td>\n",
       "    </tr>\n",
       "    <tr>\n",
       "      <th>1</th>\n",
       "      <td> 40</td>\n",
       "      <td> 3</td>\n",
       "      <td> 6</td>\n",
       "      <td> 1</td>\n",
       "      <td>       Alabama</td>\n",
       "      <td>   4858979</td>\n",
       "      <td>   3755483</td>\n",
       "      <td> 77.3</td>\n",
       "    </tr>\n",
       "    <tr>\n",
       "      <th>2</th>\n",
       "      <td> 40</td>\n",
       "      <td> 4</td>\n",
       "      <td> 9</td>\n",
       "      <td> 2</td>\n",
       "      <td>        Alaska</td>\n",
       "      <td>    738432</td>\n",
       "      <td>    552166</td>\n",
       "      <td> 74.8</td>\n",
       "    </tr>\n",
       "    <tr>\n",
       "      <th>3</th>\n",
       "      <td> 40</td>\n",
       "      <td> 4</td>\n",
       "      <td> 8</td>\n",
       "      <td> 4</td>\n",
       "      <td>       Arizona</td>\n",
       "      <td>   6828065</td>\n",
       "      <td>   5205215</td>\n",
       "      <td> 76.2</td>\n",
       "    </tr>\n",
       "    <tr>\n",
       "      <th>4</th>\n",
       "      <td> 40</td>\n",
       "      <td> 3</td>\n",
       "      <td> 7</td>\n",
       "      <td> 5</td>\n",
       "      <td>      Arkansas</td>\n",
       "      <td>   2978204</td>\n",
       "      <td>   2272904</td>\n",
       "      <td> 76.3</td>\n",
       "    </tr>\n",
       "  </tbody>\n",
       "</table>\n",
       "</div>"
      ],
      "text/plain": [
       "   SUMLEV REGION DIVISION  STATE           NAME  POPESTIMATE2015  \\\n",
       "0      10      0        0      0  United States        321418820   \n",
       "1      40      3        6      1        Alabama          4858979   \n",
       "2      40      4        9      2         Alaska           738432   \n",
       "3      40      4        8      4        Arizona          6828065   \n",
       "4      40      3        7      5       Arkansas          2978204   \n",
       "\n",
       "   POPEST18PLUS2015  PCNT_POPEST18PLUS  \n",
       "0         247773709               77.1  \n",
       "1           3755483               77.3  \n",
       "2            552166               74.8  \n",
       "3           5205215               76.2  \n",
       "4           2272904               76.3  "
      ]
     },
     "execution_count": 17,
     "metadata": {},
     "output_type": "execute_result"
    }
   ],
   "source": [
    "state_pop = pd.read_csv('state_population.csv')\n",
    "state_pop.head()"
   ]
  },
  {
   "cell_type": "code",
   "execution_count": 18,
   "metadata": {
    "collapsed": false
   },
   "outputs": [
    {
     "data": {
      "text/plain": [
       "6     74\n",
       "48    47\n",
       "12    29\n",
       "4     25\n",
       "40    22\n",
       "dtype: int64"
      ]
     },
     "execution_count": 18,
     "metadata": {},
     "output_type": "execute_result"
    }
   ],
   "source": [
    "counts = police_killings['state_fp'].value_counts()\n",
    "counts.head()"
   ]
  },
  {
   "cell_type": "code",
   "execution_count": 19,
   "metadata": {
    "collapsed": false
   },
   "outputs": [
    {
     "data": {
      "text/html": [
       "<div style=\"max-height:1000px;max-width:1500px;overflow:auto;\">\n",
       "<table border=\"1\" class=\"dataframe\">\n",
       "  <thead>\n",
       "    <tr style=\"text-align: right;\">\n",
       "      <th></th>\n",
       "      <th>STATE</th>\n",
       "      <th>shootings</th>\n",
       "    </tr>\n",
       "  </thead>\n",
       "  <tbody>\n",
       "    <tr>\n",
       "      <th>6 </th>\n",
       "      <td>  6</td>\n",
       "      <td> 74</td>\n",
       "    </tr>\n",
       "    <tr>\n",
       "      <th>48</th>\n",
       "      <td> 48</td>\n",
       "      <td> 47</td>\n",
       "    </tr>\n",
       "    <tr>\n",
       "      <th>12</th>\n",
       "      <td> 12</td>\n",
       "      <td> 29</td>\n",
       "    </tr>\n",
       "    <tr>\n",
       "      <th>4 </th>\n",
       "      <td>  4</td>\n",
       "      <td> 25</td>\n",
       "    </tr>\n",
       "    <tr>\n",
       "      <th>40</th>\n",
       "      <td> 40</td>\n",
       "      <td> 22</td>\n",
       "    </tr>\n",
       "  </tbody>\n",
       "</table>\n",
       "</div>"
      ],
      "text/plain": [
       "    STATE  shootings\n",
       "6       6         74\n",
       "48     48         47\n",
       "12     12         29\n",
       "4       4         25\n",
       "40     40         22"
      ]
     },
     "execution_count": 19,
     "metadata": {},
     "output_type": "execute_result"
    }
   ],
   "source": [
    "states = pd.DataFrame({'STATE': counts.index, 'shootings': counts})\n",
    "states.head()"
   ]
  },
  {
   "cell_type": "code",
   "execution_count": 20,
   "metadata": {
    "collapsed": false
   },
   "outputs": [
    {
     "data": {
      "text/html": [
       "<div style=\"max-height:1000px;max-width:1500px;overflow:auto;\">\n",
       "<table border=\"1\" class=\"dataframe\">\n",
       "  <thead>\n",
       "    <tr style=\"text-align: right;\">\n",
       "      <th></th>\n",
       "      <th>STATE</th>\n",
       "      <th>shootings</th>\n",
       "      <th>SUMLEV</th>\n",
       "      <th>REGION</th>\n",
       "      <th>DIVISION</th>\n",
       "      <th>NAME</th>\n",
       "      <th>POPESTIMATE2015</th>\n",
       "      <th>POPEST18PLUS2015</th>\n",
       "      <th>PCNT_POPEST18PLUS</th>\n",
       "    </tr>\n",
       "  </thead>\n",
       "  <tbody>\n",
       "    <tr>\n",
       "      <th>0</th>\n",
       "      <td>  6</td>\n",
       "      <td> 74</td>\n",
       "      <td> 40</td>\n",
       "      <td> 4</td>\n",
       "      <td> 9</td>\n",
       "      <td> California</td>\n",
       "      <td> 39144818</td>\n",
       "      <td> 30023902</td>\n",
       "      <td> 76.7</td>\n",
       "    </tr>\n",
       "    <tr>\n",
       "      <th>1</th>\n",
       "      <td> 48</td>\n",
       "      <td> 47</td>\n",
       "      <td> 40</td>\n",
       "      <td> 3</td>\n",
       "      <td> 7</td>\n",
       "      <td>      Texas</td>\n",
       "      <td> 27469114</td>\n",
       "      <td> 20257343</td>\n",
       "      <td> 73.7</td>\n",
       "    </tr>\n",
       "    <tr>\n",
       "      <th>2</th>\n",
       "      <td> 12</td>\n",
       "      <td> 29</td>\n",
       "      <td> 40</td>\n",
       "      <td> 3</td>\n",
       "      <td> 5</td>\n",
       "      <td>    Florida</td>\n",
       "      <td> 20271272</td>\n",
       "      <td> 16166143</td>\n",
       "      <td> 79.7</td>\n",
       "    </tr>\n",
       "    <tr>\n",
       "      <th>3</th>\n",
       "      <td>  4</td>\n",
       "      <td> 25</td>\n",
       "      <td> 40</td>\n",
       "      <td> 4</td>\n",
       "      <td> 8</td>\n",
       "      <td>    Arizona</td>\n",
       "      <td>  6828065</td>\n",
       "      <td>  5205215</td>\n",
       "      <td> 76.2</td>\n",
       "    </tr>\n",
       "    <tr>\n",
       "      <th>4</th>\n",
       "      <td> 40</td>\n",
       "      <td> 22</td>\n",
       "      <td> 40</td>\n",
       "      <td> 3</td>\n",
       "      <td> 7</td>\n",
       "      <td>   Oklahoma</td>\n",
       "      <td>  3911338</td>\n",
       "      <td>  2950017</td>\n",
       "      <td> 75.4</td>\n",
       "    </tr>\n",
       "  </tbody>\n",
       "</table>\n",
       "</div>"
      ],
      "text/plain": [
       "   STATE  shootings  SUMLEV REGION DIVISION        NAME  POPESTIMATE2015  \\\n",
       "0      6         74      40      4        9  California         39144818   \n",
       "1     48         47      40      3        7       Texas         27469114   \n",
       "2     12         29      40      3        5     Florida         20271272   \n",
       "3      4         25      40      4        8     Arizona          6828065   \n",
       "4     40         22      40      3        7    Oklahoma          3911338   \n",
       "\n",
       "   POPEST18PLUS2015  PCNT_POPEST18PLUS  \n",
       "0          30023902               76.7  \n",
       "1          20257343               73.7  \n",
       "2          16166143               79.7  \n",
       "3           5205215               76.2  \n",
       "4           2950017               75.4  "
      ]
     },
     "execution_count": 20,
     "metadata": {},
     "output_type": "execute_result"
    }
   ],
   "source": [
    "states = states.merge(state_pop, on='STATE')\n",
    "states.head()"
   ]
  },
  {
   "cell_type": "code",
   "execution_count": 21,
   "metadata": {
    "collapsed": false
   },
   "outputs": [
    {
     "data": {
      "text/plain": [
       "0    39.144818\n",
       "1    27.469114\n",
       "2    20.271272\n",
       "3     6.828065\n",
       "4     3.911338\n",
       "Name: pop_millions, dtype: float64"
      ]
     },
     "execution_count": 21,
     "metadata": {},
     "output_type": "execute_result"
    }
   ],
   "source": [
    "states['pop_millions'] = states['POPESTIMATE2015'] / 1000000\n",
    "states['pop_millions'].head()"
   ]
  },
  {
   "cell_type": "code",
   "execution_count": 22,
   "metadata": {
    "collapsed": false
   },
   "outputs": [
    {
     "data": {
      "text/plain": [
       "0    1.890416\n",
       "1    1.711013\n",
       "2    1.430596\n",
       "3    3.661359\n",
       "4    5.624674\n",
       "Name: rate, dtype: float64"
      ]
     },
     "execution_count": 22,
     "metadata": {},
     "output_type": "execute_result"
    }
   ],
   "source": [
    "states['rate'] = states['shootings'] / states['pop_millions']\n",
    "states['rate'].head()"
   ]
  },
  {
   "cell_type": "code",
   "execution_count": 23,
   "metadata": {
    "collapsed": false
   },
   "outputs": [
    {
     "data": {
      "text/html": [
       "<div style=\"max-height:1000px;max-width:1500px;overflow:auto;\">\n",
       "<table border=\"1\" class=\"dataframe\">\n",
       "  <thead>\n",
       "    <tr style=\"text-align: right;\">\n",
       "      <th></th>\n",
       "      <th>STATE</th>\n",
       "      <th>shootings</th>\n",
       "      <th>NAME</th>\n",
       "      <th>pop_millions</th>\n",
       "      <th>rate</th>\n",
       "    </tr>\n",
       "  </thead>\n",
       "  <tbody>\n",
       "    <tr>\n",
       "      <th>4 </th>\n",
       "      <td> 40</td>\n",
       "      <td> 22</td>\n",
       "      <td>             Oklahoma</td>\n",
       "      <td>  3.911338</td>\n",
       "      <td> 5.624674</td>\n",
       "    </tr>\n",
       "    <tr>\n",
       "      <th>3 </th>\n",
       "      <td>  4</td>\n",
       "      <td> 25</td>\n",
       "      <td>              Arizona</td>\n",
       "      <td>  6.828065</td>\n",
       "      <td> 3.661359</td>\n",
       "    </tr>\n",
       "    <tr>\n",
       "      <th>27</th>\n",
       "      <td> 31</td>\n",
       "      <td>  6</td>\n",
       "      <td>             Nebraska</td>\n",
       "      <td>  1.896190</td>\n",
       "      <td> 3.164240</td>\n",
       "    </tr>\n",
       "    <tr>\n",
       "      <th>34</th>\n",
       "      <td> 15</td>\n",
       "      <td>  4</td>\n",
       "      <td>               Hawaii</td>\n",
       "      <td>  1.431603</td>\n",
       "      <td> 2.794071</td>\n",
       "    </tr>\n",
       "    <tr>\n",
       "      <th>39</th>\n",
       "      <td>  2</td>\n",
       "      <td>  2</td>\n",
       "      <td>               Alaska</td>\n",
       "      <td>  0.738432</td>\n",
       "      <td> 2.708442</td>\n",
       "    </tr>\n",
       "    <tr>\n",
       "      <th>33</th>\n",
       "      <td> 16</td>\n",
       "      <td>  4</td>\n",
       "      <td>                Idaho</td>\n",
       "      <td>  1.654930</td>\n",
       "      <td> 2.417021</td>\n",
       "    </tr>\n",
       "    <tr>\n",
       "      <th>32</th>\n",
       "      <td> 35</td>\n",
       "      <td>  5</td>\n",
       "      <td>           New Mexico</td>\n",
       "      <td>  2.085109</td>\n",
       "      <td> 2.397956</td>\n",
       "    </tr>\n",
       "    <tr>\n",
       "      <th>10</th>\n",
       "      <td> 22</td>\n",
       "      <td> 11</td>\n",
       "      <td>            Louisiana</td>\n",
       "      <td>  4.670724</td>\n",
       "      <td> 2.355095</td>\n",
       "    </tr>\n",
       "    <tr>\n",
       "      <th>7 </th>\n",
       "      <td>  8</td>\n",
       "      <td> 12</td>\n",
       "      <td>             Colorado</td>\n",
       "      <td>  5.456574</td>\n",
       "      <td> 2.199182</td>\n",
       "    </tr>\n",
       "    <tr>\n",
       "      <th>41</th>\n",
       "      <td> 10</td>\n",
       "      <td>  2</td>\n",
       "      <td>             Delaware</td>\n",
       "      <td>  0.945934</td>\n",
       "      <td> 2.114312</td>\n",
       "    </tr>\n",
       "    <tr>\n",
       "      <th>24</th>\n",
       "      <td> 20</td>\n",
       "      <td>  6</td>\n",
       "      <td>               Kansas</td>\n",
       "      <td>  2.911641</td>\n",
       "      <td> 2.060694</td>\n",
       "    </tr>\n",
       "    <tr>\n",
       "      <th>26</th>\n",
       "      <td> 28</td>\n",
       "      <td>  6</td>\n",
       "      <td>          Mississippi</td>\n",
       "      <td>  2.992333</td>\n",
       "      <td> 2.005124</td>\n",
       "    </tr>\n",
       "    <tr>\n",
       "      <th>19</th>\n",
       "      <td> 41</td>\n",
       "      <td>  8</td>\n",
       "      <td>               Oregon</td>\n",
       "      <td>  4.028977</td>\n",
       "      <td> 1.985616</td>\n",
       "    </tr>\n",
       "    <tr>\n",
       "      <th>37</th>\n",
       "      <td> 30</td>\n",
       "      <td>  2</td>\n",
       "      <td>              Montana</td>\n",
       "      <td>  1.032949</td>\n",
       "      <td> 1.936204</td>\n",
       "    </tr>\n",
       "    <tr>\n",
       "      <th>0 </th>\n",
       "      <td>  6</td>\n",
       "      <td> 74</td>\n",
       "      <td>           California</td>\n",
       "      <td> 39.144818</td>\n",
       "      <td> 1.890416</td>\n",
       "    </tr>\n",
       "    <tr>\n",
       "      <th>17</th>\n",
       "      <td> 45</td>\n",
       "      <td>  9</td>\n",
       "      <td>       South Carolina</td>\n",
       "      <td>  4.896146</td>\n",
       "      <td> 1.838180</td>\n",
       "    </tr>\n",
       "    <tr>\n",
       "      <th>1 </th>\n",
       "      <td> 48</td>\n",
       "      <td> 47</td>\n",
       "      <td>                Texas</td>\n",
       "      <td> 27.469114</td>\n",
       "      <td> 1.711013</td>\n",
       "    </tr>\n",
       "    <tr>\n",
       "      <th>46</th>\n",
       "      <td> 56</td>\n",
       "      <td>  1</td>\n",
       "      <td>              Wyoming</td>\n",
       "      <td>  0.586107</td>\n",
       "      <td> 1.706173</td>\n",
       "    </tr>\n",
       "    <tr>\n",
       "      <th>30</th>\n",
       "      <td> 49</td>\n",
       "      <td>  5</td>\n",
       "      <td>                 Utah</td>\n",
       "      <td>  2.995919</td>\n",
       "      <td> 1.668937</td>\n",
       "    </tr>\n",
       "    <tr>\n",
       "      <th>14</th>\n",
       "      <td> 24</td>\n",
       "      <td> 10</td>\n",
       "      <td>             Maryland</td>\n",
       "      <td>  6.006401</td>\n",
       "      <td> 1.664891</td>\n",
       "    </tr>\n",
       "    <tr>\n",
       "      <th>21</th>\n",
       "      <td>  1</td>\n",
       "      <td>  8</td>\n",
       "      <td>              Alabama</td>\n",
       "      <td>  4.858979</td>\n",
       "      <td> 1.646436</td>\n",
       "    </tr>\n",
       "    <tr>\n",
       "      <th>13</th>\n",
       "      <td> 29</td>\n",
       "      <td> 10</td>\n",
       "      <td>             Missouri</td>\n",
       "      <td>  6.083672</td>\n",
       "      <td> 1.643744</td>\n",
       "    </tr>\n",
       "    <tr>\n",
       "      <th>23</th>\n",
       "      <td> 21</td>\n",
       "      <td>  7</td>\n",
       "      <td>             Kentucky</td>\n",
       "      <td>  4.425092</td>\n",
       "      <td> 1.581888</td>\n",
       "    </tr>\n",
       "    <tr>\n",
       "      <th>5 </th>\n",
       "      <td> 13</td>\n",
       "      <td> 16</td>\n",
       "      <td>              Georgia</td>\n",
       "      <td> 10.214860</td>\n",
       "      <td> 1.566346</td>\n",
       "    </tr>\n",
       "    <tr>\n",
       "      <th>9 </th>\n",
       "      <td> 53</td>\n",
       "      <td> 11</td>\n",
       "      <td>           Washington</td>\n",
       "      <td>  7.170351</td>\n",
       "      <td> 1.534095</td>\n",
       "    </tr>\n",
       "    <tr>\n",
       "      <th>44</th>\n",
       "      <td> 11</td>\n",
       "      <td>  1</td>\n",
       "      <td> District of Columbia</td>\n",
       "      <td>  0.672228</td>\n",
       "      <td> 1.487591</td>\n",
       "    </tr>\n",
       "    <tr>\n",
       "      <th>2 </th>\n",
       "      <td> 12</td>\n",
       "      <td> 29</td>\n",
       "      <td>              Florida</td>\n",
       "      <td> 20.271272</td>\n",
       "      <td> 1.430596</td>\n",
       "    </tr>\n",
       "    <tr>\n",
       "      <th>35</th>\n",
       "      <td>  5</td>\n",
       "      <td>  4</td>\n",
       "      <td>             Arkansas</td>\n",
       "      <td>  2.978204</td>\n",
       "      <td> 1.343091</td>\n",
       "    </tr>\n",
       "    <tr>\n",
       "      <th>8 </th>\n",
       "      <td> 34</td>\n",
       "      <td> 11</td>\n",
       "      <td>           New Jersey</td>\n",
       "      <td>  8.958013</td>\n",
       "      <td> 1.227951</td>\n",
       "    </tr>\n",
       "    <tr>\n",
       "      <th>20</th>\n",
       "      <td> 18</td>\n",
       "      <td>  8</td>\n",
       "      <td>              Indiana</td>\n",
       "      <td>  6.619680</td>\n",
       "      <td> 1.208518</td>\n",
       "    </tr>\n",
       "    <tr>\n",
       "      <th>25</th>\n",
       "      <td> 27</td>\n",
       "      <td>  6</td>\n",
       "      <td>            Minnesota</td>\n",
       "      <td>  5.489594</td>\n",
       "      <td> 1.092977</td>\n",
       "    </tr>\n",
       "    <tr>\n",
       "      <th>40</th>\n",
       "      <td> 54</td>\n",
       "      <td>  2</td>\n",
       "      <td>        West Virginia</td>\n",
       "      <td>  1.844128</td>\n",
       "      <td> 1.084523</td>\n",
       "    </tr>\n",
       "    <tr>\n",
       "      <th>18</th>\n",
       "      <td> 51</td>\n",
       "      <td>  9</td>\n",
       "      <td>             Virginia</td>\n",
       "      <td>  8.382993</td>\n",
       "      <td> 1.073602</td>\n",
       "    </tr>\n",
       "    <tr>\n",
       "      <th>36</th>\n",
       "      <td> 32</td>\n",
       "      <td>  3</td>\n",
       "      <td>               Nevada</td>\n",
       "      <td>  2.890845</td>\n",
       "      <td> 1.037759</td>\n",
       "    </tr>\n",
       "    <tr>\n",
       "      <th>15</th>\n",
       "      <td> 37</td>\n",
       "      <td> 10</td>\n",
       "      <td>       North Carolina</td>\n",
       "      <td> 10.042802</td>\n",
       "      <td> 0.995738</td>\n",
       "    </tr>\n",
       "    <tr>\n",
       "      <th>28</th>\n",
       "      <td> 47</td>\n",
       "      <td>  6</td>\n",
       "      <td>            Tennessee</td>\n",
       "      <td>  6.600299</td>\n",
       "      <td> 0.909050</td>\n",
       "    </tr>\n",
       "    <tr>\n",
       "      <th>16</th>\n",
       "      <td> 26</td>\n",
       "      <td>  9</td>\n",
       "      <td>             Michigan</td>\n",
       "      <td>  9.922576</td>\n",
       "      <td> 0.907023</td>\n",
       "    </tr>\n",
       "    <tr>\n",
       "      <th>31</th>\n",
       "      <td> 55</td>\n",
       "      <td>  5</td>\n",
       "      <td>            Wisconsin</td>\n",
       "      <td>  5.771337</td>\n",
       "      <td> 0.866350</td>\n",
       "    </tr>\n",
       "    <tr>\n",
       "      <th>12</th>\n",
       "      <td> 39</td>\n",
       "      <td> 10</td>\n",
       "      <td>                 Ohio</td>\n",
       "      <td> 11.613423</td>\n",
       "      <td> 0.861073</td>\n",
       "    </tr>\n",
       "    <tr>\n",
       "      <th>11</th>\n",
       "      <td> 17</td>\n",
       "      <td> 11</td>\n",
       "      <td>             Illinois</td>\n",
       "      <td> 12.859995</td>\n",
       "      <td> 0.855366</td>\n",
       "    </tr>\n",
       "    <tr>\n",
       "      <th>45</th>\n",
       "      <td> 23</td>\n",
       "      <td>  1</td>\n",
       "      <td>                Maine</td>\n",
       "      <td>  1.329328</td>\n",
       "      <td> 0.752260</td>\n",
       "    </tr>\n",
       "    <tr>\n",
       "      <th>42</th>\n",
       "      <td> 33</td>\n",
       "      <td>  1</td>\n",
       "      <td>        New Hampshire</td>\n",
       "      <td>  1.330608</td>\n",
       "      <td> 0.751536</td>\n",
       "    </tr>\n",
       "    <tr>\n",
       "      <th>29</th>\n",
       "      <td> 25</td>\n",
       "      <td>  5</td>\n",
       "      <td>        Massachusetts</td>\n",
       "      <td>  6.794422</td>\n",
       "      <td> 0.735898</td>\n",
       "    </tr>\n",
       "    <tr>\n",
       "      <th>6 </th>\n",
       "      <td> 36</td>\n",
       "      <td> 13</td>\n",
       "      <td>             New York</td>\n",
       "      <td> 19.795791</td>\n",
       "      <td> 0.656705</td>\n",
       "    </tr>\n",
       "    <tr>\n",
       "      <th>38</th>\n",
       "      <td> 19</td>\n",
       "      <td>  2</td>\n",
       "      <td>                 Iowa</td>\n",
       "      <td>  3.123899</td>\n",
       "      <td> 0.640226</td>\n",
       "    </tr>\n",
       "    <tr>\n",
       "      <th>22</th>\n",
       "      <td> 42</td>\n",
       "      <td>  7</td>\n",
       "      <td>         Pennsylvania</td>\n",
       "      <td> 12.802503</td>\n",
       "      <td> 0.546768</td>\n",
       "    </tr>\n",
       "    <tr>\n",
       "      <th>43</th>\n",
       "      <td>  9</td>\n",
       "      <td>  1</td>\n",
       "      <td>          Connecticut</td>\n",
       "      <td>  3.590886</td>\n",
       "      <td> 0.278483</td>\n",
       "    </tr>\n",
       "  </tbody>\n",
       "</table>\n",
       "</div>"
      ],
      "text/plain": [
       "    STATE  shootings                  NAME  pop_millions      rate\n",
       "4      40         22              Oklahoma      3.911338  5.624674\n",
       "3       4         25               Arizona      6.828065  3.661359\n",
       "27     31          6              Nebraska      1.896190  3.164240\n",
       "34     15          4                Hawaii      1.431603  2.794071\n",
       "39      2          2                Alaska      0.738432  2.708442\n",
       "33     16          4                 Idaho      1.654930  2.417021\n",
       "32     35          5            New Mexico      2.085109  2.397956\n",
       "10     22         11             Louisiana      4.670724  2.355095\n",
       "7       8         12              Colorado      5.456574  2.199182\n",
       "41     10          2              Delaware      0.945934  2.114312\n",
       "24     20          6                Kansas      2.911641  2.060694\n",
       "26     28          6           Mississippi      2.992333  2.005124\n",
       "19     41          8                Oregon      4.028977  1.985616\n",
       "37     30          2               Montana      1.032949  1.936204\n",
       "0       6         74            California     39.144818  1.890416\n",
       "17     45          9        South Carolina      4.896146  1.838180\n",
       "1      48         47                 Texas     27.469114  1.711013\n",
       "46     56          1               Wyoming      0.586107  1.706173\n",
       "30     49          5                  Utah      2.995919  1.668937\n",
       "14     24         10              Maryland      6.006401  1.664891\n",
       "21      1          8               Alabama      4.858979  1.646436\n",
       "13     29         10              Missouri      6.083672  1.643744\n",
       "23     21          7              Kentucky      4.425092  1.581888\n",
       "5      13         16               Georgia     10.214860  1.566346\n",
       "9      53         11            Washington      7.170351  1.534095\n",
       "44     11          1  District of Columbia      0.672228  1.487591\n",
       "2      12         29               Florida     20.271272  1.430596\n",
       "35      5          4              Arkansas      2.978204  1.343091\n",
       "8      34         11            New Jersey      8.958013  1.227951\n",
       "20     18          8               Indiana      6.619680  1.208518\n",
       "25     27          6             Minnesota      5.489594  1.092977\n",
       "40     54          2         West Virginia      1.844128  1.084523\n",
       "18     51          9              Virginia      8.382993  1.073602\n",
       "36     32          3                Nevada      2.890845  1.037759\n",
       "15     37         10        North Carolina     10.042802  0.995738\n",
       "28     47          6             Tennessee      6.600299  0.909050\n",
       "16     26          9              Michigan      9.922576  0.907023\n",
       "31     55          5             Wisconsin      5.771337  0.866350\n",
       "12     39         10                  Ohio     11.613423  0.861073\n",
       "11     17         11              Illinois     12.859995  0.855366\n",
       "45     23          1                 Maine      1.329328  0.752260\n",
       "42     33          1         New Hampshire      1.330608  0.751536\n",
       "29     25          5         Massachusetts      6.794422  0.735898\n",
       "6      36         13              New York     19.795791  0.656705\n",
       "38     19          2                  Iowa      3.123899  0.640226\n",
       "22     42          7          Pennsylvania     12.802503  0.546768\n",
       "43      9          1           Connecticut      3.590886  0.278483"
      ]
     },
     "execution_count": 23,
     "metadata": {},
     "output_type": "execute_result"
    }
   ],
   "source": [
    "sorted_rate = states.sort(['rate'], ascending=False)\n",
    "sorted_rate[['STATE', 'shootings', 'NAME', 'pop_millions', 'rate']]"
   ]
  },
  {
   "cell_type": "code",
   "execution_count": 24,
   "metadata": {
    "collapsed": false
   },
   "outputs": [
    {
     "data": {
      "text/plain": [
       "4     40\n",
       "3      4\n",
       "27    31\n",
       "34    15\n",
       "39     2\n",
       "33    16\n",
       "32    35\n",
       "10    22\n",
       "7      8\n",
       "41    10\n",
       "Name: STATE, dtype: int64"
      ]
     },
     "execution_count": 24,
     "metadata": {},
     "output_type": "execute_result"
    }
   ],
   "source": [
    "most_ten = sorted_rate[:10]['STATE']\n",
    "most_ten"
   ]
  },
  {
   "cell_type": "code",
   "execution_count": 25,
   "metadata": {
    "collapsed": false
   },
   "outputs": [
    {
     "data": {
      "text/plain": [
       "31    55\n",
       "12    39\n",
       "11    17\n",
       "45    23\n",
       "42    33\n",
       "29    25\n",
       "6     36\n",
       "38    19\n",
       "22    42\n",
       "43     9\n",
       "Name: STATE, dtype: int64"
      ]
     },
     "execution_count": 25,
     "metadata": {},
     "output_type": "execute_result"
    }
   ],
   "source": [
    "least_ten = sorted_rate[-10:]['STATE']\n",
    "least_ten"
   ]
  },
  {
   "cell_type": "code",
   "execution_count": 26,
   "metadata": {
    "collapsed": false
   },
   "outputs": [
    {
     "data": {
      "text/html": [
       "<div style=\"max-height:1000px;max-width:1500px;overflow:auto;\">\n",
       "<table border=\"1\" class=\"dataframe\">\n",
       "  <thead>\n",
       "    <tr style=\"text-align: right;\">\n",
       "      <th></th>\n",
       "      <th>name</th>\n",
       "      <th>age</th>\n",
       "      <th>gender</th>\n",
       "      <th>raceethnicity</th>\n",
       "      <th>month</th>\n",
       "      <th>day</th>\n",
       "      <th>year</th>\n",
       "      <th>streetaddress</th>\n",
       "      <th>city</th>\n",
       "      <th>state</th>\n",
       "      <th>...</th>\n",
       "      <th>share_hispanic</th>\n",
       "      <th>p_income</th>\n",
       "      <th>h_income</th>\n",
       "      <th>county_income</th>\n",
       "      <th>comp_income</th>\n",
       "      <th>county_bucket</th>\n",
       "      <th>nat_bucket</th>\n",
       "      <th>pov</th>\n",
       "      <th>urate</th>\n",
       "      <th>college</th>\n",
       "    </tr>\n",
       "  </thead>\n",
       "  <tbody>\n",
       "    <tr>\n",
       "      <th>0</th>\n",
       "      <td> A'donte Washington</td>\n",
       "      <td> 16</td>\n",
       "      <td> Male</td>\n",
       "      <td>           Black</td>\n",
       "      <td> February</td>\n",
       "      <td> 23</td>\n",
       "      <td> 2015</td>\n",
       "      <td>           Clearview Ln</td>\n",
       "      <td>    Millbrook</td>\n",
       "      <td> AL</td>\n",
       "      <td>...</td>\n",
       "      <td>  5.6</td>\n",
       "      <td> 28375</td>\n",
       "      <td> 51367</td>\n",
       "      <td> 54766</td>\n",
       "      <td> 0.937936</td>\n",
       "      <td> 3</td>\n",
       "      <td> 3</td>\n",
       "      <td> 14.1</td>\n",
       "      <td> 0.097686</td>\n",
       "      <td> 0.168510</td>\n",
       "    </tr>\n",
       "    <tr>\n",
       "      <th>1</th>\n",
       "      <td>     Aaron Rutledge</td>\n",
       "      <td> 27</td>\n",
       "      <td> Male</td>\n",
       "      <td>           White</td>\n",
       "      <td>    April</td>\n",
       "      <td>  2</td>\n",
       "      <td> 2015</td>\n",
       "      <td> 300 block Iris Park Dr</td>\n",
       "      <td>    Pineville</td>\n",
       "      <td> LA</td>\n",
       "      <td>...</td>\n",
       "      <td>  0.5</td>\n",
       "      <td> 14678</td>\n",
       "      <td> 27972</td>\n",
       "      <td> 40930</td>\n",
       "      <td> 0.683411</td>\n",
       "      <td> 2</td>\n",
       "      <td> 1</td>\n",
       "      <td> 28.8</td>\n",
       "      <td> 0.065724</td>\n",
       "      <td> 0.111402</td>\n",
       "    </tr>\n",
       "    <tr>\n",
       "      <th>2</th>\n",
       "      <td>        Aaron Siler</td>\n",
       "      <td> 26</td>\n",
       "      <td> Male</td>\n",
       "      <td>           White</td>\n",
       "      <td>    March</td>\n",
       "      <td> 14</td>\n",
       "      <td> 2015</td>\n",
       "      <td>   22nd Ave and 56th St</td>\n",
       "      <td>      Kenosha</td>\n",
       "      <td> WI</td>\n",
       "      <td>...</td>\n",
       "      <td> 16.8</td>\n",
       "      <td> 25286</td>\n",
       "      <td> 45365</td>\n",
       "      <td> 54930</td>\n",
       "      <td> 0.825869</td>\n",
       "      <td> 2</td>\n",
       "      <td> 3</td>\n",
       "      <td> 14.6</td>\n",
       "      <td> 0.166293</td>\n",
       "      <td> 0.147312</td>\n",
       "    </tr>\n",
       "    <tr>\n",
       "      <th>3</th>\n",
       "      <td>       Aaron Valdez</td>\n",
       "      <td> 25</td>\n",
       "      <td> Male</td>\n",
       "      <td> Hispanic/Latino</td>\n",
       "      <td>    March</td>\n",
       "      <td> 11</td>\n",
       "      <td> 2015</td>\n",
       "      <td>      3000 Seminole Ave</td>\n",
       "      <td>   South Gate</td>\n",
       "      <td> CA</td>\n",
       "      <td>...</td>\n",
       "      <td> 98.8</td>\n",
       "      <td> 17194</td>\n",
       "      <td> 48295</td>\n",
       "      <td> 55909</td>\n",
       "      <td> 0.863814</td>\n",
       "      <td> 3</td>\n",
       "      <td> 3</td>\n",
       "      <td> 11.7</td>\n",
       "      <td> 0.124827</td>\n",
       "      <td> 0.050133</td>\n",
       "    </tr>\n",
       "    <tr>\n",
       "      <th>4</th>\n",
       "      <td>       Adam Jovicic</td>\n",
       "      <td> 29</td>\n",
       "      <td> Male</td>\n",
       "      <td>           White</td>\n",
       "      <td>    March</td>\n",
       "      <td> 19</td>\n",
       "      <td> 2015</td>\n",
       "      <td>         364 Hiwood Ave</td>\n",
       "      <td> Munroe Falls</td>\n",
       "      <td> OH</td>\n",
       "      <td>...</td>\n",
       "      <td>  1.7</td>\n",
       "      <td> 33954</td>\n",
       "      <td> 68785</td>\n",
       "      <td> 49669</td>\n",
       "      <td> 1.384868</td>\n",
       "      <td> 5</td>\n",
       "      <td> 4</td>\n",
       "      <td>  1.9</td>\n",
       "      <td> 0.063550</td>\n",
       "      <td> 0.403954</td>\n",
       "    </tr>\n",
       "  </tbody>\n",
       "</table>\n",
       "<p>5 rows × 34 columns</p>\n",
       "</div>"
      ],
      "text/plain": [
       "                 name age gender    raceethnicity     month  day  year  \\\n",
       "0  A'donte Washington  16   Male            Black  February   23  2015   \n",
       "1      Aaron Rutledge  27   Male            White     April    2  2015   \n",
       "2         Aaron Siler  26   Male            White     March   14  2015   \n",
       "3        Aaron Valdez  25   Male  Hispanic/Latino     March   11  2015   \n",
       "4        Adam Jovicic  29   Male            White     March   19  2015   \n",
       "\n",
       "            streetaddress          city state    ...     share_hispanic  \\\n",
       "0            Clearview Ln     Millbrook    AL    ...                5.6   \n",
       "1  300 block Iris Park Dr     Pineville    LA    ...                0.5   \n",
       "2    22nd Ave and 56th St       Kenosha    WI    ...               16.8   \n",
       "3       3000 Seminole Ave    South Gate    CA    ...               98.8   \n",
       "4          364 Hiwood Ave  Munroe Falls    OH    ...                1.7   \n",
       "\n",
       "   p_income  h_income  county_income  comp_income  county_bucket  nat_bucket  \\\n",
       "0     28375     51367          54766     0.937936              3           3   \n",
       "1     14678     27972          40930     0.683411              2           1   \n",
       "2     25286     45365          54930     0.825869              2           3   \n",
       "3     17194     48295          55909     0.863814              3           3   \n",
       "4     33954     68785          49669     1.384868              5           4   \n",
       "\n",
       "    pov     urate   college  \n",
       "0  14.1  0.097686  0.168510  \n",
       "1  28.8  0.065724  0.111402  \n",
       "2  14.6  0.166293  0.147312  \n",
       "3  11.7  0.124827  0.050133  \n",
       "4   1.9  0.063550  0.403954  \n",
       "\n",
       "[5 rows x 34 columns]"
      ]
     },
     "execution_count": 26,
     "metadata": {},
     "output_type": "execute_result"
    }
   ],
   "source": [
    "pk = police_killings[(police_killings['share_white'] != '-') & (police_killings['share_black'] != '-') & (police_killings['share_hispanic'] != '-')]\n",
    "pk.head()"
   ]
  },
  {
   "cell_type": "code",
   "execution_count": 27,
   "metadata": {
    "collapsed": false
   },
   "outputs": [
    {
     "data": {
      "text/plain": [
       "share_white       object\n",
       "share_black       object\n",
       "share_hispanic    object\n",
       "dtype: object"
      ]
     },
     "execution_count": 27,
     "metadata": {},
     "output_type": "execute_result"
    }
   ],
   "source": [
    "pk[['share_white', 'share_black', 'share_hispanic']].dtypes"
   ]
  },
  {
   "cell_type": "code",
   "execution_count": 28,
   "metadata": {
    "collapsed": false
   },
   "outputs": [
    {
     "name": "stderr",
     "output_type": "stream",
     "text": [
      "/opt/dsserver/lib/python3.4/site-packages/pandas/core/frame.py:2131: SettingWithCopyWarning: \n",
      "A value is trying to be set on a copy of a slice from a DataFrame.\n",
      "Try using .loc[row_indexer,col_indexer] = value instead\n",
      "\n",
      "See the the caveats in the documentation: http://pandas.pydata.org/pandas-docs/stable/indexing.html#indexing-view-versus-copy\n",
      "  self[k1] = value[k2]\n"
     ]
    },
    {
     "data": {
      "text/plain": [
       "share_white       float64\n",
       "share_black       float64\n",
       "share_hispanic    float64\n",
       "dtype: object"
      ]
     },
     "execution_count": 28,
     "metadata": {},
     "output_type": "execute_result"
    }
   ],
   "source": [
    "pk[['share_white', 'share_black', 'share_hispanic']] = pk[['share_white', 'share_black', 'share_hispanic']].astype(float)\n",
    "pk[['share_white', 'share_black', 'share_hispanic']].dtypes"
   ]
  },
  {
   "cell_type": "code",
   "execution_count": 29,
   "metadata": {
    "collapsed": false
   },
   "outputs": [
    {
     "data": {
      "text/html": [
       "<div style=\"max-height:1000px;max-width:1500px;overflow:auto;\">\n",
       "<table border=\"1\" class=\"dataframe\">\n",
       "  <thead>\n",
       "    <tr style=\"text-align: right;\">\n",
       "      <th></th>\n",
       "      <th>name</th>\n",
       "      <th>age</th>\n",
       "      <th>gender</th>\n",
       "      <th>raceethnicity</th>\n",
       "      <th>month</th>\n",
       "      <th>day</th>\n",
       "      <th>year</th>\n",
       "      <th>streetaddress</th>\n",
       "      <th>city</th>\n",
       "      <th>state</th>\n",
       "      <th>...</th>\n",
       "      <th>share_hispanic</th>\n",
       "      <th>p_income</th>\n",
       "      <th>h_income</th>\n",
       "      <th>county_income</th>\n",
       "      <th>comp_income</th>\n",
       "      <th>county_bucket</th>\n",
       "      <th>nat_bucket</th>\n",
       "      <th>pov</th>\n",
       "      <th>urate</th>\n",
       "      <th>college</th>\n",
       "    </tr>\n",
       "  </thead>\n",
       "  <tbody>\n",
       "    <tr>\n",
       "      <th>1 </th>\n",
       "      <td>  Aaron Rutledge</td>\n",
       "      <td> 27</td>\n",
       "      <td> Male</td>\n",
       "      <td>           White</td>\n",
       "      <td>   April</td>\n",
       "      <td>  2</td>\n",
       "      <td> 2015</td>\n",
       "      <td> 300 block Iris Park Dr</td>\n",
       "      <td>     Pineville</td>\n",
       "      <td> LA</td>\n",
       "      <td>...</td>\n",
       "      <td>  0.5</td>\n",
       "      <td> 14678</td>\n",
       "      <td> 27972</td>\n",
       "      <td> 40930</td>\n",
       "      <td> 0.683411</td>\n",
       "      <td> 2</td>\n",
       "      <td> 1</td>\n",
       "      <td> 28.8</td>\n",
       "      <td> 0.065724</td>\n",
       "      <td> 0.111402</td>\n",
       "    </tr>\n",
       "    <tr>\n",
       "      <th>5 </th>\n",
       "      <td>   Adam Reinhart</td>\n",
       "      <td> 29</td>\n",
       "      <td> Male</td>\n",
       "      <td>           White</td>\n",
       "      <td>   March</td>\n",
       "      <td>  7</td>\n",
       "      <td> 2015</td>\n",
       "      <td>    18th St and Palm Ln</td>\n",
       "      <td>       Phoenix</td>\n",
       "      <td> AZ</td>\n",
       "      <td>...</td>\n",
       "      <td> 79.0</td>\n",
       "      <td> 15523</td>\n",
       "      <td> 20833</td>\n",
       "      <td> 53596</td>\n",
       "      <td> 0.388704</td>\n",
       "      <td> 1</td>\n",
       "      <td> 1</td>\n",
       "      <td>   58</td>\n",
       "      <td> 0.073651</td>\n",
       "      <td> 0.102955</td>\n",
       "    </tr>\n",
       "    <tr>\n",
       "      <th>21</th>\n",
       "      <td> Andre Murphy Sr</td>\n",
       "      <td> 42</td>\n",
       "      <td> Male</td>\n",
       "      <td>           Black</td>\n",
       "      <td> January</td>\n",
       "      <td>  7</td>\n",
       "      <td> 2015</td>\n",
       "      <td>         1223 Omaha Ave</td>\n",
       "      <td>       Norfolk</td>\n",
       "      <td> NE</td>\n",
       "      <td>...</td>\n",
       "      <td>  2.9</td>\n",
       "      <td> 23342</td>\n",
       "      <td> 54809</td>\n",
       "      <td> 46566</td>\n",
       "      <td> 1.177018</td>\n",
       "      <td> 4</td>\n",
       "      <td> 3</td>\n",
       "      <td> 10.3</td>\n",
       "      <td> 0.035221</td>\n",
       "      <td> 0.258886</td>\n",
       "    </tr>\n",
       "    <tr>\n",
       "      <th>24</th>\n",
       "      <td>  Andrew Jackson</td>\n",
       "      <td> 26</td>\n",
       "      <td> Male</td>\n",
       "      <td>           White</td>\n",
       "      <td>   April</td>\n",
       "      <td> 29</td>\n",
       "      <td> 2015</td>\n",
       "      <td>     1200 W Florida Ave</td>\n",
       "      <td>     Chickasha</td>\n",
       "      <td> OK</td>\n",
       "      <td>...</td>\n",
       "      <td>  9.7</td>\n",
       "      <td> 17695</td>\n",
       "      <td> 32034</td>\n",
       "      <td> 49637</td>\n",
       "      <td> 0.645365</td>\n",
       "      <td> 1</td>\n",
       "      <td> 1</td>\n",
       "      <td> 20.3</td>\n",
       "      <td> 0.011335</td>\n",
       "      <td> 0.169402</td>\n",
       "    </tr>\n",
       "    <tr>\n",
       "      <th>42</th>\n",
       "      <td>  Aurelio Duarte</td>\n",
       "      <td> 40</td>\n",
       "      <td> Male</td>\n",
       "      <td> Hispanic/Latino</td>\n",
       "      <td>   March</td>\n",
       "      <td>  8</td>\n",
       "      <td> 2015</td>\n",
       "      <td>        3632 SW 38th St</td>\n",
       "      <td> Oklahoma City</td>\n",
       "      <td> OK</td>\n",
       "      <td>...</td>\n",
       "      <td> 56.6</td>\n",
       "      <td> 17225</td>\n",
       "      <td> 32860</td>\n",
       "      <td> 45215</td>\n",
       "      <td> 0.726750</td>\n",
       "      <td> 2</td>\n",
       "      <td> 1</td>\n",
       "      <td> 25.1</td>\n",
       "      <td> 0.142747</td>\n",
       "      <td> 0.035339</td>\n",
       "    </tr>\n",
       "  </tbody>\n",
       "</table>\n",
       "<p>5 rows × 34 columns</p>\n",
       "</div>"
      ],
      "text/plain": [
       "               name age gender    raceethnicity    month  day  year  \\\n",
       "1    Aaron Rutledge  27   Male            White    April    2  2015   \n",
       "5     Adam Reinhart  29   Male            White    March    7  2015   \n",
       "21  Andre Murphy Sr  42   Male            Black  January    7  2015   \n",
       "24   Andrew Jackson  26   Male            White    April   29  2015   \n",
       "42   Aurelio Duarte  40   Male  Hispanic/Latino    March    8  2015   \n",
       "\n",
       "             streetaddress           city state    ...     share_hispanic  \\\n",
       "1   300 block Iris Park Dr      Pineville    LA    ...                0.5   \n",
       "5      18th St and Palm Ln        Phoenix    AZ    ...               79.0   \n",
       "21          1223 Omaha Ave        Norfolk    NE    ...                2.9   \n",
       "24      1200 W Florida Ave      Chickasha    OK    ...                9.7   \n",
       "42         3632 SW 38th St  Oklahoma City    OK    ...               56.6   \n",
       "\n",
       "    p_income  h_income  county_income  comp_income  county_bucket  nat_bucket  \\\n",
       "1      14678     27972          40930     0.683411              2           1   \n",
       "5      15523     20833          53596     0.388704              1           1   \n",
       "21     23342     54809          46566     1.177018              4           3   \n",
       "24     17695     32034          49637     0.645365              1           1   \n",
       "42     17225     32860          45215     0.726750              2           1   \n",
       "\n",
       "     pov     urate   college  \n",
       "1   28.8  0.065724  0.111402  \n",
       "5     58  0.073651  0.102955  \n",
       "21  10.3  0.035221  0.258886  \n",
       "24  20.3  0.011335  0.169402  \n",
       "42  25.1  0.142747  0.035339  \n",
       "\n",
       "[5 rows x 34 columns]"
      ]
     },
     "execution_count": 29,
     "metadata": {},
     "output_type": "execute_result"
    }
   ],
   "source": [
    "top_ten = pk[pk['state_fp'].isin(most_ten)]\n",
    "top_ten.head()"
   ]
  },
  {
   "cell_type": "code",
   "execution_count": 30,
   "metadata": {
    "collapsed": false
   },
   "outputs": [
    {
     "data": {
      "text/html": [
       "<div style=\"max-height:1000px;max-width:1500px;overflow:auto;\">\n",
       "<table border=\"1\" class=\"dataframe\">\n",
       "  <thead>\n",
       "    <tr style=\"text-align: right;\">\n",
       "      <th></th>\n",
       "      <th>name</th>\n",
       "      <th>age</th>\n",
       "      <th>gender</th>\n",
       "      <th>raceethnicity</th>\n",
       "      <th>month</th>\n",
       "      <th>day</th>\n",
       "      <th>year</th>\n",
       "      <th>streetaddress</th>\n",
       "      <th>city</th>\n",
       "      <th>state</th>\n",
       "      <th>...</th>\n",
       "      <th>share_hispanic</th>\n",
       "      <th>p_income</th>\n",
       "      <th>h_income</th>\n",
       "      <th>county_income</th>\n",
       "      <th>comp_income</th>\n",
       "      <th>county_bucket</th>\n",
       "      <th>nat_bucket</th>\n",
       "      <th>pov</th>\n",
       "      <th>urate</th>\n",
       "      <th>college</th>\n",
       "    </tr>\n",
       "  </thead>\n",
       "  <tbody>\n",
       "    <tr>\n",
       "      <th>2 </th>\n",
       "      <td>      Aaron Siler</td>\n",
       "      <td> 26</td>\n",
       "      <td> Male</td>\n",
       "      <td> White</td>\n",
       "      <td>   March</td>\n",
       "      <td> 14</td>\n",
       "      <td> 2015</td>\n",
       "      <td>         22nd Ave and 56th St</td>\n",
       "      <td>      Kenosha</td>\n",
       "      <td> WI</td>\n",
       "      <td>...</td>\n",
       "      <td> 16.8</td>\n",
       "      <td> 25286</td>\n",
       "      <td> 45365</td>\n",
       "      <td> 54930</td>\n",
       "      <td> 0.825869</td>\n",
       "      <td> 2</td>\n",
       "      <td> 3</td>\n",
       "      <td> 14.6</td>\n",
       "      <td> 0.166293</td>\n",
       "      <td> 0.147312</td>\n",
       "    </tr>\n",
       "    <tr>\n",
       "      <th>4 </th>\n",
       "      <td>     Adam Jovicic</td>\n",
       "      <td> 29</td>\n",
       "      <td> Male</td>\n",
       "      <td> White</td>\n",
       "      <td>   March</td>\n",
       "      <td> 19</td>\n",
       "      <td> 2015</td>\n",
       "      <td>               364 Hiwood Ave</td>\n",
       "      <td> Munroe Falls</td>\n",
       "      <td> OH</td>\n",
       "      <td>...</td>\n",
       "      <td>  1.7</td>\n",
       "      <td> 33954</td>\n",
       "      <td> 68785</td>\n",
       "      <td> 49669</td>\n",
       "      <td> 1.384868</td>\n",
       "      <td> 5</td>\n",
       "      <td> 4</td>\n",
       "      <td>  1.9</td>\n",
       "      <td> 0.063550</td>\n",
       "      <td> 0.403954</td>\n",
       "    </tr>\n",
       "    <tr>\n",
       "      <th>26</th>\n",
       "      <td>      Andrew Toto</td>\n",
       "      <td> 54</td>\n",
       "      <td> Male</td>\n",
       "      <td> White</td>\n",
       "      <td> January</td>\n",
       "      <td> 21</td>\n",
       "      <td> 2015</td>\n",
       "      <td> Scobie Pond Rd and Julian Rd</td>\n",
       "      <td>        Derry</td>\n",
       "      <td> NH</td>\n",
       "      <td>...</td>\n",
       "      <td>  1.9</td>\n",
       "      <td> 32921</td>\n",
       "      <td> 61167</td>\n",
       "      <td> 77348</td>\n",
       "      <td> 0.790803</td>\n",
       "      <td> 1</td>\n",
       "      <td> 4</td>\n",
       "      <td>  5.4</td>\n",
       "      <td> 0.087385</td>\n",
       "      <td> 0.284854</td>\n",
       "    </tr>\n",
       "    <tr>\n",
       "      <th>31</th>\n",
       "      <td>      Angelo West</td>\n",
       "      <td> 41</td>\n",
       "      <td> Male</td>\n",
       "      <td> Black</td>\n",
       "      <td>   March</td>\n",
       "      <td> 27</td>\n",
       "      <td> 2015</td>\n",
       "      <td>  Humboldt Ave and Ruthven St</td>\n",
       "      <td>      Roxbury</td>\n",
       "      <td> MA</td>\n",
       "      <td>...</td>\n",
       "      <td> 35.2</td>\n",
       "      <td> 14995</td>\n",
       "      <td> 20388</td>\n",
       "      <td> 53540</td>\n",
       "      <td> 0.380799</td>\n",
       "      <td> 1</td>\n",
       "      <td> 1</td>\n",
       "      <td> 41.3</td>\n",
       "      <td> 0.220398</td>\n",
       "      <td> 0.182336</td>\n",
       "    </tr>\n",
       "    <tr>\n",
       "      <th>35</th>\n",
       "      <td> Anthony Gomez Jr</td>\n",
       "      <td> 29</td>\n",
       "      <td> Male</td>\n",
       "      <td> Black</td>\n",
       "      <td>     May</td>\n",
       "      <td> 19</td>\n",
       "      <td> 2015</td>\n",
       "      <td>              305 E Walnut St</td>\n",
       "      <td>    Lancaster</td>\n",
       "      <td> PA</td>\n",
       "      <td>...</td>\n",
       "      <td> 37.1</td>\n",
       "      <td> 21868</td>\n",
       "      <td> 42027</td>\n",
       "      <td> 56483</td>\n",
       "      <td> 0.744065</td>\n",
       "      <td> 1</td>\n",
       "      <td> 2</td>\n",
       "      <td>  9.3</td>\n",
       "      <td> 0.206855</td>\n",
       "      <td> 0.172319</td>\n",
       "    </tr>\n",
       "  </tbody>\n",
       "</table>\n",
       "<p>5 rows × 34 columns</p>\n",
       "</div>"
      ],
      "text/plain": [
       "                name age gender raceethnicity    month  day  year  \\\n",
       "2        Aaron Siler  26   Male         White    March   14  2015   \n",
       "4       Adam Jovicic  29   Male         White    March   19  2015   \n",
       "26       Andrew Toto  54   Male         White  January   21  2015   \n",
       "31       Angelo West  41   Male         Black    March   27  2015   \n",
       "35  Anthony Gomez Jr  29   Male         Black      May   19  2015   \n",
       "\n",
       "                   streetaddress          city state    ...     \\\n",
       "2           22nd Ave and 56th St       Kenosha    WI    ...      \n",
       "4                 364 Hiwood Ave  Munroe Falls    OH    ...      \n",
       "26  Scobie Pond Rd and Julian Rd         Derry    NH    ...      \n",
       "31   Humboldt Ave and Ruthven St       Roxbury    MA    ...      \n",
       "35               305 E Walnut St     Lancaster    PA    ...      \n",
       "\n",
       "    share_hispanic  p_income  h_income  county_income  comp_income  \\\n",
       "2             16.8     25286     45365          54930     0.825869   \n",
       "4              1.7     33954     68785          49669     1.384868   \n",
       "26             1.9     32921     61167          77348     0.790803   \n",
       "31            35.2     14995     20388          53540     0.380799   \n",
       "35            37.1     21868     42027          56483     0.744065   \n",
       "\n",
       "    county_bucket  nat_bucket   pov     urate   college  \n",
       "2               2           3  14.6  0.166293  0.147312  \n",
       "4               5           4   1.9  0.063550  0.403954  \n",
       "26              1           4   5.4  0.087385  0.284854  \n",
       "31              1           1  41.3  0.220398  0.182336  \n",
       "35              1           2   9.3  0.206855  0.172319  \n",
       "\n",
       "[5 rows x 34 columns]"
      ]
     },
     "execution_count": 30,
     "metadata": {},
     "output_type": "execute_result"
    }
   ],
   "source": [
    "low_ten = pk[pk['state_fp'].isin(least_ten)]\n",
    "low_ten.head()"
   ]
  },
  {
   "cell_type": "code",
   "execution_count": 31,
   "metadata": {
    "collapsed": false
   },
   "outputs": [
    {
     "data": {
      "text/plain": [
       "pop                4315.750000\n",
       "county_income     48706.967391\n",
       "share_white          55.652174\n",
       "share_black          11.532609\n",
       "share_hispanic       20.693478\n",
       "dtype: float64"
      ]
     },
     "execution_count": 31,
     "metadata": {},
     "output_type": "execute_result"
    }
   ],
   "source": [
    "top_ten[['pop', 'county_income', 'share_white', 'share_black', 'share_hispanic']].mean()"
   ]
  },
  {
   "cell_type": "code",
   "execution_count": 32,
   "metadata": {
    "collapsed": false
   },
   "outputs": [
    {
     "data": {
      "text/plain": [
       "pop                4153.472727\n",
       "county_income     55037.963636\n",
       "share_white          60.132727\n",
       "share_black          21.610909\n",
       "share_hispanic       12.994545\n",
       "dtype: float64"
      ]
     },
     "execution_count": 32,
     "metadata": {},
     "output_type": "execute_result"
    }
   ],
   "source": [
    "low_ten[['pop', 'county_income', 'share_white', 'share_black', 'share_hispanic']].mean()"
   ]
  }
 ],
 "metadata": {
  "kernelspec": {
   "display_name": "Python 3",
   "language": "python",
   "name": "python3"
  },
  "language_info": {
   "codemirror_mode": {
    "name": "ipython",
    "version": 3
   },
   "file_extension": ".py",
   "mimetype": "text/x-python",
   "name": "python",
   "nbconvert_exporter": "python",
   "pygments_lexer": "ipython3",
   "version": "3.4.3"
  }
 },
 "nbformat": 4,
 "nbformat_minor": 0
}
