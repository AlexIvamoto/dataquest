{
 "cells": [
  {
   "cell_type": "code",
   "execution_count": 1,
   "metadata": {
    "collapsed": true
   },
   "outputs": [],
   "source": [
    "import numpy as np\n",
    "import pandas as pd\n",
    "import matplotlib.pyplot as plt\n",
    "import seaborn as sns\n",
    "%matplotlib inline"
   ]
  },
  {
   "cell_type": "code",
   "execution_count": 2,
   "metadata": {
    "collapsed": false
   },
   "outputs": [
    {
     "data": {
      "text/html": [
       "<div style=\"max-height:1000px;max-width:1500px;overflow:auto;\">\n",
       "<table border=\"1\" class=\"dataframe\">\n",
       "  <thead>\n",
       "    <tr style=\"text-align: right;\">\n",
       "      <th></th>\n",
       "      <th>RespondentID</th>\n",
       "      <th>Have you seen any of the 6 films in the Star Wars franchise?</th>\n",
       "      <th>Do you consider yourself to be a fan of the Star Wars film franchise?</th>\n",
       "      <th>Which of the following Star Wars films have you seen? Please select all that apply.</th>\n",
       "      <th>Unnamed: 4</th>\n",
       "      <th>Unnamed: 5</th>\n",
       "      <th>Unnamed: 6</th>\n",
       "      <th>Unnamed: 7</th>\n",
       "      <th>Unnamed: 8</th>\n",
       "      <th>Please rank the Star Wars films in order of preference with 1 being your favorite film in the franchise and 6 being your least favorite film.</th>\n",
       "      <th>...</th>\n",
       "      <th>Unnamed: 28</th>\n",
       "      <th>Which character shot first?</th>\n",
       "      <th>Are you familiar with the Expanded Universe?</th>\n",
       "      <th>Do you consider yourself to be a fan of the Expanded Universe?ÂÃ¦</th>\n",
       "      <th>Do you consider yourself to be a fan of the Star Trek franchise?</th>\n",
       "      <th>Gender</th>\n",
       "      <th>Age</th>\n",
       "      <th>Household Income</th>\n",
       "      <th>Education</th>\n",
       "      <th>Location (Census Region)</th>\n",
       "    </tr>\n",
       "  </thead>\n",
       "  <tbody>\n",
       "    <tr>\n",
       "      <th>0</th>\n",
       "      <td>        NaN</td>\n",
       "      <td> Response</td>\n",
       "      <td> Response</td>\n",
       "      <td> Star Wars: Episode I  The Phantom Menace</td>\n",
       "      <td> Star Wars: Episode II  Attack of the Clones</td>\n",
       "      <td> Star Wars: Episode III  Revenge of the Sith</td>\n",
       "      <td> Star Wars: Episode IV  A New Hope</td>\n",
       "      <td> Star Wars: Episode V The Empire Strikes Back</td>\n",
       "      <td> Star Wars: Episode VI Return of the Jedi</td>\n",
       "      <td> Star Wars: Episode I  The Phantom Menace</td>\n",
       "      <td>...</td>\n",
       "      <td>             Yoda</td>\n",
       "      <td>                         Response</td>\n",
       "      <td> Response</td>\n",
       "      <td> Response</td>\n",
       "      <td> Response</td>\n",
       "      <td> Response</td>\n",
       "      <td> Response</td>\n",
       "      <td>            Response</td>\n",
       "      <td>                         Response</td>\n",
       "      <td>           Response</td>\n",
       "    </tr>\n",
       "    <tr>\n",
       "      <th>1</th>\n",
       "      <td> 3292879998</td>\n",
       "      <td>      Yes</td>\n",
       "      <td>      Yes</td>\n",
       "      <td> Star Wars: Episode I  The Phantom Menace</td>\n",
       "      <td> Star Wars: Episode II  Attack of the Clones</td>\n",
       "      <td> Star Wars: Episode III  Revenge of the Sith</td>\n",
       "      <td> Star Wars: Episode IV  A New Hope</td>\n",
       "      <td> Star Wars: Episode V The Empire Strikes Back</td>\n",
       "      <td> Star Wars: Episode VI Return of the Jedi</td>\n",
       "      <td>                                        3</td>\n",
       "      <td>...</td>\n",
       "      <td>   Very favorably</td>\n",
       "      <td> I don't understand this question</td>\n",
       "      <td>      Yes</td>\n",
       "      <td>       No</td>\n",
       "      <td>       No</td>\n",
       "      <td>     Male</td>\n",
       "      <td>    18-29</td>\n",
       "      <td>                 NaN</td>\n",
       "      <td>               High school degree</td>\n",
       "      <td>     South Atlantic</td>\n",
       "    </tr>\n",
       "    <tr>\n",
       "      <th>2</th>\n",
       "      <td> 3292879538</td>\n",
       "      <td>       No</td>\n",
       "      <td>      NaN</td>\n",
       "      <td>                                      NaN</td>\n",
       "      <td>                                         NaN</td>\n",
       "      <td>                                         NaN</td>\n",
       "      <td>                               NaN</td>\n",
       "      <td>                                          NaN</td>\n",
       "      <td>                                      NaN</td>\n",
       "      <td>                                      NaN</td>\n",
       "      <td>...</td>\n",
       "      <td>              NaN</td>\n",
       "      <td>                              NaN</td>\n",
       "      <td>      NaN</td>\n",
       "      <td>      NaN</td>\n",
       "      <td>      Yes</td>\n",
       "      <td>     Male</td>\n",
       "      <td>    18-29</td>\n",
       "      <td>        $0 - $24,999</td>\n",
       "      <td>                  Bachelor degree</td>\n",
       "      <td> West South Central</td>\n",
       "    </tr>\n",
       "    <tr>\n",
       "      <th>3</th>\n",
       "      <td> 3292765271</td>\n",
       "      <td>      Yes</td>\n",
       "      <td>       No</td>\n",
       "      <td> Star Wars: Episode I  The Phantom Menace</td>\n",
       "      <td> Star Wars: Episode II  Attack of the Clones</td>\n",
       "      <td> Star Wars: Episode III  Revenge of the Sith</td>\n",
       "      <td>                               NaN</td>\n",
       "      <td>                                          NaN</td>\n",
       "      <td>                                      NaN</td>\n",
       "      <td>                                        1</td>\n",
       "      <td>...</td>\n",
       "      <td> Unfamiliar (N/A)</td>\n",
       "      <td> I don't understand this question</td>\n",
       "      <td>       No</td>\n",
       "      <td>      NaN</td>\n",
       "      <td>       No</td>\n",
       "      <td>     Male</td>\n",
       "      <td>    18-29</td>\n",
       "      <td>        $0 - $24,999</td>\n",
       "      <td>               High school degree</td>\n",
       "      <td> West North Central</td>\n",
       "    </tr>\n",
       "    <tr>\n",
       "      <th>4</th>\n",
       "      <td> 3292763116</td>\n",
       "      <td>      Yes</td>\n",
       "      <td>      Yes</td>\n",
       "      <td> Star Wars: Episode I  The Phantom Menace</td>\n",
       "      <td> Star Wars: Episode II  Attack of the Clones</td>\n",
       "      <td> Star Wars: Episode III  Revenge of the Sith</td>\n",
       "      <td> Star Wars: Episode IV  A New Hope</td>\n",
       "      <td> Star Wars: Episode V The Empire Strikes Back</td>\n",
       "      <td> Star Wars: Episode VI Return of the Jedi</td>\n",
       "      <td>                                        5</td>\n",
       "      <td>...</td>\n",
       "      <td>   Very favorably</td>\n",
       "      <td> I don't understand this question</td>\n",
       "      <td>       No</td>\n",
       "      <td>      NaN</td>\n",
       "      <td>      Yes</td>\n",
       "      <td>     Male</td>\n",
       "      <td>    18-29</td>\n",
       "      <td> $100,000 - $149,999</td>\n",
       "      <td> Some college or Associate degree</td>\n",
       "      <td> West North Central</td>\n",
       "    </tr>\n",
       "  </tbody>\n",
       "</table>\n",
       "<p>5 rows × 38 columns</p>\n",
       "</div>"
      ],
      "text/plain": [
       "   RespondentID Have you seen any of the 6 films in the Star Wars franchise?  \\\n",
       "0           NaN                                           Response             \n",
       "1    3292879998                                                Yes             \n",
       "2    3292879538                                                 No             \n",
       "3    3292765271                                                Yes             \n",
       "4    3292763116                                                Yes             \n",
       "\n",
       "  Do you consider yourself to be a fan of the Star Wars film franchise?  \\\n",
       "0                                           Response                      \n",
       "1                                                Yes                      \n",
       "2                                                NaN                      \n",
       "3                                                 No                      \n",
       "4                                                Yes                      \n",
       "\n",
       "  Which of the following Star Wars films have you seen? Please select all that apply.  \\\n",
       "0           Star Wars: Episode I  The Phantom Menace                                    \n",
       "1           Star Wars: Episode I  The Phantom Menace                                    \n",
       "2                                                NaN                                    \n",
       "3           Star Wars: Episode I  The Phantom Menace                                    \n",
       "4           Star Wars: Episode I  The Phantom Menace                                    \n",
       "\n",
       "                                    Unnamed: 4  \\\n",
       "0  Star Wars: Episode II  Attack of the Clones   \n",
       "1  Star Wars: Episode II  Attack of the Clones   \n",
       "2                                          NaN   \n",
       "3  Star Wars: Episode II  Attack of the Clones   \n",
       "4  Star Wars: Episode II  Attack of the Clones   \n",
       "\n",
       "                                    Unnamed: 5  \\\n",
       "0  Star Wars: Episode III  Revenge of the Sith   \n",
       "1  Star Wars: Episode III  Revenge of the Sith   \n",
       "2                                          NaN   \n",
       "3  Star Wars: Episode III  Revenge of the Sith   \n",
       "4  Star Wars: Episode III  Revenge of the Sith   \n",
       "\n",
       "                          Unnamed: 6  \\\n",
       "0  Star Wars: Episode IV  A New Hope   \n",
       "1  Star Wars: Episode IV  A New Hope   \n",
       "2                                NaN   \n",
       "3                                NaN   \n",
       "4  Star Wars: Episode IV  A New Hope   \n",
       "\n",
       "                                     Unnamed: 7  \\\n",
       "0  Star Wars: Episode V The Empire Strikes Back   \n",
       "1  Star Wars: Episode V The Empire Strikes Back   \n",
       "2                                           NaN   \n",
       "3                                           NaN   \n",
       "4  Star Wars: Episode V The Empire Strikes Back   \n",
       "\n",
       "                                 Unnamed: 8  \\\n",
       "0  Star Wars: Episode VI Return of the Jedi   \n",
       "1  Star Wars: Episode VI Return of the Jedi   \n",
       "2                                       NaN   \n",
       "3                                       NaN   \n",
       "4  Star Wars: Episode VI Return of the Jedi   \n",
       "\n",
       "  Please rank the Star Wars films in order of preference with 1 being your favorite film in the franchise and 6 being your least favorite film.  \\\n",
       "0           Star Wars: Episode I  The Phantom Menace                                                                                              \n",
       "1                                                  3                                                                                              \n",
       "2                                                NaN                                                                                              \n",
       "3                                                  1                                                                                              \n",
       "4                                                  5                                                                                              \n",
       "\n",
       "            ...                  Unnamed: 28  \\\n",
       "0           ...                         Yoda   \n",
       "1           ...               Very favorably   \n",
       "2           ...                          NaN   \n",
       "3           ...             Unfamiliar (N/A)   \n",
       "4           ...               Very favorably   \n",
       "\n",
       "        Which character shot first?  \\\n",
       "0                          Response   \n",
       "1  I don't understand this question   \n",
       "2                               NaN   \n",
       "3  I don't understand this question   \n",
       "4  I don't understand this question   \n",
       "\n",
       "  Are you familiar with the Expanded Universe?  \\\n",
       "0                                     Response   \n",
       "1                                          Yes   \n",
       "2                                          NaN   \n",
       "3                                           No   \n",
       "4                                           No   \n",
       "\n",
       "  Do you consider yourself to be a fan of the Expanded Universe?ÂÃ¦  \\\n",
       "0                                           Response                   \n",
       "1                                                 No                   \n",
       "2                                                NaN                   \n",
       "3                                                NaN                   \n",
       "4                                                NaN                   \n",
       "\n",
       "  Do you consider yourself to be a fan of the Star Trek franchise?    Gender  \\\n",
       "0                                           Response                Response   \n",
       "1                                                 No                    Male   \n",
       "2                                                Yes                    Male   \n",
       "3                                                 No                    Male   \n",
       "4                                                Yes                    Male   \n",
       "\n",
       "        Age     Household Income                         Education  \\\n",
       "0  Response             Response                          Response   \n",
       "1     18-29                  NaN                High school degree   \n",
       "2     18-29         $0 - $24,999                   Bachelor degree   \n",
       "3     18-29         $0 - $24,999                High school degree   \n",
       "4     18-29  $100,000 - $149,999  Some college or Associate degree   \n",
       "\n",
       "  Location (Census Region)  \n",
       "0                 Response  \n",
       "1           South Atlantic  \n",
       "2       West South Central  \n",
       "3       West North Central  \n",
       "4       West North Central  \n",
       "\n",
       "[5 rows x 38 columns]"
      ]
     },
     "execution_count": 2,
     "metadata": {},
     "output_type": "execute_result"
    }
   ],
   "source": [
    "star_wars = pd.read_csv(\"star_wars.csv\", encoding=\"ISO-8859-1\")\n",
    "star_wars.head()"
   ]
  },
  {
   "cell_type": "code",
   "execution_count": 3,
   "metadata": {
    "collapsed": false
   },
   "outputs": [
    {
     "data": {
      "text/plain": [
       "(1187, 38)"
      ]
     },
     "execution_count": 3,
     "metadata": {},
     "output_type": "execute_result"
    }
   ],
   "source": [
    "star_wars.shape"
   ]
  },
  {
   "cell_type": "code",
   "execution_count": 4,
   "metadata": {
    "collapsed": false
   },
   "outputs": [
    {
     "data": {
      "text/html": [
       "<div style=\"max-height:1000px;max-width:1500px;overflow:auto;\">\n",
       "<table border=\"1\" class=\"dataframe\">\n",
       "  <thead>\n",
       "    <tr style=\"text-align: right;\">\n",
       "      <th></th>\n",
       "      <th>RespondentID</th>\n",
       "      <th>Have you seen any of the 6 films in the Star Wars franchise?</th>\n",
       "      <th>Do you consider yourself to be a fan of the Star Wars film franchise?</th>\n",
       "      <th>Which of the following Star Wars films have you seen? Please select all that apply.</th>\n",
       "      <th>Unnamed: 4</th>\n",
       "      <th>Unnamed: 5</th>\n",
       "      <th>Unnamed: 6</th>\n",
       "      <th>Unnamed: 7</th>\n",
       "      <th>Unnamed: 8</th>\n",
       "      <th>Please rank the Star Wars films in order of preference with 1 being your favorite film in the franchise and 6 being your least favorite film.</th>\n",
       "      <th>...</th>\n",
       "      <th>Unnamed: 28</th>\n",
       "      <th>Which character shot first?</th>\n",
       "      <th>Are you familiar with the Expanded Universe?</th>\n",
       "      <th>Do you consider yourself to be a fan of the Expanded Universe?ÂÃ¦</th>\n",
       "      <th>Do you consider yourself to be a fan of the Star Trek franchise?</th>\n",
       "      <th>Gender</th>\n",
       "      <th>Age</th>\n",
       "      <th>Household Income</th>\n",
       "      <th>Education</th>\n",
       "      <th>Location (Census Region)</th>\n",
       "    </tr>\n",
       "  </thead>\n",
       "  <tbody>\n",
       "    <tr>\n",
       "      <th>1</th>\n",
       "      <td> 3292879998</td>\n",
       "      <td> Yes</td>\n",
       "      <td> Yes</td>\n",
       "      <td> Star Wars: Episode I  The Phantom Menace</td>\n",
       "      <td> Star Wars: Episode II  Attack of the Clones</td>\n",
       "      <td> Star Wars: Episode III  Revenge of the Sith</td>\n",
       "      <td> Star Wars: Episode IV  A New Hope</td>\n",
       "      <td> Star Wars: Episode V The Empire Strikes Back</td>\n",
       "      <td> Star Wars: Episode VI Return of the Jedi</td>\n",
       "      <td>   3</td>\n",
       "      <td>...</td>\n",
       "      <td>     Very favorably</td>\n",
       "      <td> I don't understand this question</td>\n",
       "      <td> Yes</td>\n",
       "      <td>  No</td>\n",
       "      <td>  No</td>\n",
       "      <td> Male</td>\n",
       "      <td> 18-29</td>\n",
       "      <td>                 NaN</td>\n",
       "      <td>               High school degree</td>\n",
       "      <td>     South Atlantic</td>\n",
       "    </tr>\n",
       "    <tr>\n",
       "      <th>2</th>\n",
       "      <td> 3292879538</td>\n",
       "      <td>  No</td>\n",
       "      <td> NaN</td>\n",
       "      <td>                                      NaN</td>\n",
       "      <td>                                         NaN</td>\n",
       "      <td>                                         NaN</td>\n",
       "      <td>                               NaN</td>\n",
       "      <td>                                          NaN</td>\n",
       "      <td>                                      NaN</td>\n",
       "      <td> NaN</td>\n",
       "      <td>...</td>\n",
       "      <td>                NaN</td>\n",
       "      <td>                              NaN</td>\n",
       "      <td> NaN</td>\n",
       "      <td> NaN</td>\n",
       "      <td> Yes</td>\n",
       "      <td> Male</td>\n",
       "      <td> 18-29</td>\n",
       "      <td>        $0 - $24,999</td>\n",
       "      <td>                  Bachelor degree</td>\n",
       "      <td> West South Central</td>\n",
       "    </tr>\n",
       "    <tr>\n",
       "      <th>3</th>\n",
       "      <td> 3292765271</td>\n",
       "      <td> Yes</td>\n",
       "      <td>  No</td>\n",
       "      <td> Star Wars: Episode I  The Phantom Menace</td>\n",
       "      <td> Star Wars: Episode II  Attack of the Clones</td>\n",
       "      <td> Star Wars: Episode III  Revenge of the Sith</td>\n",
       "      <td>                               NaN</td>\n",
       "      <td>                                          NaN</td>\n",
       "      <td>                                      NaN</td>\n",
       "      <td>   1</td>\n",
       "      <td>...</td>\n",
       "      <td>   Unfamiliar (N/A)</td>\n",
       "      <td> I don't understand this question</td>\n",
       "      <td>  No</td>\n",
       "      <td> NaN</td>\n",
       "      <td>  No</td>\n",
       "      <td> Male</td>\n",
       "      <td> 18-29</td>\n",
       "      <td>        $0 - $24,999</td>\n",
       "      <td>               High school degree</td>\n",
       "      <td> West North Central</td>\n",
       "    </tr>\n",
       "    <tr>\n",
       "      <th>4</th>\n",
       "      <td> 3292763116</td>\n",
       "      <td> Yes</td>\n",
       "      <td> Yes</td>\n",
       "      <td> Star Wars: Episode I  The Phantom Menace</td>\n",
       "      <td> Star Wars: Episode II  Attack of the Clones</td>\n",
       "      <td> Star Wars: Episode III  Revenge of the Sith</td>\n",
       "      <td> Star Wars: Episode IV  A New Hope</td>\n",
       "      <td> Star Wars: Episode V The Empire Strikes Back</td>\n",
       "      <td> Star Wars: Episode VI Return of the Jedi</td>\n",
       "      <td>   5</td>\n",
       "      <td>...</td>\n",
       "      <td>     Very favorably</td>\n",
       "      <td> I don't understand this question</td>\n",
       "      <td>  No</td>\n",
       "      <td> NaN</td>\n",
       "      <td> Yes</td>\n",
       "      <td> Male</td>\n",
       "      <td> 18-29</td>\n",
       "      <td> $100,000 - $149,999</td>\n",
       "      <td> Some college or Associate degree</td>\n",
       "      <td> West North Central</td>\n",
       "    </tr>\n",
       "    <tr>\n",
       "      <th>5</th>\n",
       "      <td> 3292731220</td>\n",
       "      <td> Yes</td>\n",
       "      <td> Yes</td>\n",
       "      <td> Star Wars: Episode I  The Phantom Menace</td>\n",
       "      <td> Star Wars: Episode II  Attack of the Clones</td>\n",
       "      <td> Star Wars: Episode III  Revenge of the Sith</td>\n",
       "      <td> Star Wars: Episode IV  A New Hope</td>\n",
       "      <td> Star Wars: Episode V The Empire Strikes Back</td>\n",
       "      <td> Star Wars: Episode VI Return of the Jedi</td>\n",
       "      <td>   5</td>\n",
       "      <td>...</td>\n",
       "      <td> Somewhat favorably</td>\n",
       "      <td>                           Greedo</td>\n",
       "      <td> Yes</td>\n",
       "      <td>  No</td>\n",
       "      <td>  No</td>\n",
       "      <td> Male</td>\n",
       "      <td> 18-29</td>\n",
       "      <td> $100,000 - $149,999</td>\n",
       "      <td> Some college or Associate degree</td>\n",
       "      <td> West North Central</td>\n",
       "    </tr>\n",
       "  </tbody>\n",
       "</table>\n",
       "<p>5 rows × 38 columns</p>\n",
       "</div>"
      ],
      "text/plain": [
       "   RespondentID Have you seen any of the 6 films in the Star Wars franchise?  \\\n",
       "1    3292879998                                                Yes             \n",
       "2    3292879538                                                 No             \n",
       "3    3292765271                                                Yes             \n",
       "4    3292763116                                                Yes             \n",
       "5    3292731220                                                Yes             \n",
       "\n",
       "  Do you consider yourself to be a fan of the Star Wars film franchise?  \\\n",
       "1                                                Yes                      \n",
       "2                                                NaN                      \n",
       "3                                                 No                      \n",
       "4                                                Yes                      \n",
       "5                                                Yes                      \n",
       "\n",
       "  Which of the following Star Wars films have you seen? Please select all that apply.  \\\n",
       "1           Star Wars: Episode I  The Phantom Menace                                    \n",
       "2                                                NaN                                    \n",
       "3           Star Wars: Episode I  The Phantom Menace                                    \n",
       "4           Star Wars: Episode I  The Phantom Menace                                    \n",
       "5           Star Wars: Episode I  The Phantom Menace                                    \n",
       "\n",
       "                                    Unnamed: 4  \\\n",
       "1  Star Wars: Episode II  Attack of the Clones   \n",
       "2                                          NaN   \n",
       "3  Star Wars: Episode II  Attack of the Clones   \n",
       "4  Star Wars: Episode II  Attack of the Clones   \n",
       "5  Star Wars: Episode II  Attack of the Clones   \n",
       "\n",
       "                                    Unnamed: 5  \\\n",
       "1  Star Wars: Episode III  Revenge of the Sith   \n",
       "2                                          NaN   \n",
       "3  Star Wars: Episode III  Revenge of the Sith   \n",
       "4  Star Wars: Episode III  Revenge of the Sith   \n",
       "5  Star Wars: Episode III  Revenge of the Sith   \n",
       "\n",
       "                          Unnamed: 6  \\\n",
       "1  Star Wars: Episode IV  A New Hope   \n",
       "2                                NaN   \n",
       "3                                NaN   \n",
       "4  Star Wars: Episode IV  A New Hope   \n",
       "5  Star Wars: Episode IV  A New Hope   \n",
       "\n",
       "                                     Unnamed: 7  \\\n",
       "1  Star Wars: Episode V The Empire Strikes Back   \n",
       "2                                           NaN   \n",
       "3                                           NaN   \n",
       "4  Star Wars: Episode V The Empire Strikes Back   \n",
       "5  Star Wars: Episode V The Empire Strikes Back   \n",
       "\n",
       "                                 Unnamed: 8  \\\n",
       "1  Star Wars: Episode VI Return of the Jedi   \n",
       "2                                       NaN   \n",
       "3                                       NaN   \n",
       "4  Star Wars: Episode VI Return of the Jedi   \n",
       "5  Star Wars: Episode VI Return of the Jedi   \n",
       "\n",
       "  Please rank the Star Wars films in order of preference with 1 being your favorite film in the franchise and 6 being your least favorite film.  \\\n",
       "1                                                  3                                                                                              \n",
       "2                                                NaN                                                                                              \n",
       "3                                                  1                                                                                              \n",
       "4                                                  5                                                                                              \n",
       "5                                                  5                                                                                              \n",
       "\n",
       "            ...                    Unnamed: 28  \\\n",
       "1           ...                 Very favorably   \n",
       "2           ...                            NaN   \n",
       "3           ...               Unfamiliar (N/A)   \n",
       "4           ...                 Very favorably   \n",
       "5           ...             Somewhat favorably   \n",
       "\n",
       "        Which character shot first?  \\\n",
       "1  I don't understand this question   \n",
       "2                               NaN   \n",
       "3  I don't understand this question   \n",
       "4  I don't understand this question   \n",
       "5                            Greedo   \n",
       "\n",
       "  Are you familiar with the Expanded Universe?  \\\n",
       "1                                          Yes   \n",
       "2                                          NaN   \n",
       "3                                           No   \n",
       "4                                           No   \n",
       "5                                          Yes   \n",
       "\n",
       "  Do you consider yourself to be a fan of the Expanded Universe?ÂÃ¦  \\\n",
       "1                                                 No                   \n",
       "2                                                NaN                   \n",
       "3                                                NaN                   \n",
       "4                                                NaN                   \n",
       "5                                                 No                   \n",
       "\n",
       "  Do you consider yourself to be a fan of the Star Trek franchise? Gender  \\\n",
       "1                                                 No                 Male   \n",
       "2                                                Yes                 Male   \n",
       "3                                                 No                 Male   \n",
       "4                                                Yes                 Male   \n",
       "5                                                 No                 Male   \n",
       "\n",
       "     Age     Household Income                         Education  \\\n",
       "1  18-29                  NaN                High school degree   \n",
       "2  18-29         $0 - $24,999                   Bachelor degree   \n",
       "3  18-29         $0 - $24,999                High school degree   \n",
       "4  18-29  $100,000 - $149,999  Some college or Associate degree   \n",
       "5  18-29  $100,000 - $149,999  Some college or Associate degree   \n",
       "\n",
       "  Location (Census Region)  \n",
       "1           South Atlantic  \n",
       "2       West South Central  \n",
       "3       West North Central  \n",
       "4       West North Central  \n",
       "5       West North Central  \n",
       "\n",
       "[5 rows x 38 columns]"
      ]
     },
     "execution_count": 4,
     "metadata": {},
     "output_type": "execute_result"
    }
   ],
   "source": [
    "star_wars = star_wars[star_wars['RespondentID'].notnull()]\n",
    "star_wars.head()"
   ]
  },
  {
   "cell_type": "code",
   "execution_count": 5,
   "metadata": {
    "collapsed": false
   },
   "outputs": [
    {
     "data": {
      "text/plain": [
       "(1186, 38)"
      ]
     },
     "execution_count": 5,
     "metadata": {},
     "output_type": "execute_result"
    }
   ],
   "source": [
    "star_wars.shape"
   ]
  },
  {
   "cell_type": "code",
   "execution_count": 6,
   "metadata": {
    "collapsed": false
   },
   "outputs": [
    {
     "data": {
      "text/plain": [
       "RespondentID                                                    float64\n",
       "Have you seen any of the 6 films in the Star Wars franchise?     object\n",
       "Do you consider yourself to be a fan of the Star Wars film franchise?     object\n",
       "Which of the following Star Wars films have you seen? Please select all that apply.     object\n",
       "Unnamed: 4                                                       object\n",
       "Unnamed: 5                                                       object\n",
       "Unnamed: 6                                                       object\n",
       "Unnamed: 7                                                       object\n",
       "Unnamed: 8                                                       object\n",
       "Please rank the Star Wars films in order of preference with 1 being your favorite film in the franchise and 6 being your least favorite film.     object\n",
       "Unnamed: 10                                                      object\n",
       "Unnamed: 11                                                      object\n",
       "Unnamed: 12                                                      object\n",
       "Unnamed: 13                                                      object\n",
       "Unnamed: 14                                                      object\n",
       "Please state whether you view the following characters favorably, unfavorably, or are unfamiliar with him/her.     object\n",
       "Unnamed: 16                                                      object\n",
       "Unnamed: 17                                                      object\n",
       "Unnamed: 18                                                      object\n",
       "Unnamed: 19                                                      object\n",
       "Unnamed: 20                                                      object\n",
       "Unnamed: 21                                                      object\n",
       "Unnamed: 22                                                      object\n",
       "Unnamed: 23                                                      object\n",
       "Unnamed: 24                                                      object\n",
       "Unnamed: 25                                                      object\n",
       "Unnamed: 26                                                      object\n",
       "Unnamed: 27                                                      object\n",
       "Unnamed: 28                                                      object\n",
       "Which character shot first?                                      object\n",
       "Are you familiar with the Expanded Universe?                     object\n",
       "Do you consider yourself to be a fan of the Expanded Universe?ÂÃ¦     object\n",
       "Do you consider yourself to be a fan of the Star Trek franchise?     object\n",
       "Gender                                                           object\n",
       "Age                                                              object\n",
       "Household Income                                                 object\n",
       "Education                                                        object\n",
       "Location (Census Region)                                         object\n",
       "dtype: object"
      ]
     },
     "execution_count": 6,
     "metadata": {},
     "output_type": "execute_result"
    }
   ],
   "source": [
    "star_wars.dtypes"
   ]
  },
  {
   "cell_type": "code",
   "execution_count": 7,
   "metadata": {
    "collapsed": false
   },
   "outputs": [
    {
     "data": {
      "text/plain": [
       "Yes    936\n",
       "No     250\n",
       "dtype: int64"
      ]
     },
     "execution_count": 7,
     "metadata": {},
     "output_type": "execute_result"
    }
   ],
   "source": [
    "star_wars['Have you seen any of the 6 films in the Star Wars franchise?'].value_counts()"
   ]
  },
  {
   "cell_type": "code",
   "execution_count": 8,
   "metadata": {
    "collapsed": false
   },
   "outputs": [
    {
     "data": {
      "text/plain": [
       "True     936\n",
       "False    250\n",
       "dtype: int64"
      ]
     },
     "execution_count": 8,
     "metadata": {},
     "output_type": "execute_result"
    }
   ],
   "source": [
    "star_wars['Have you seen any of the 6 films in the Star Wars franchise?'] = star_wars['Have you seen any of the 6 films in the Star Wars franchise?'].map({'Yes': True, 'No': False})\n",
    "star_wars['Have you seen any of the 6 films in the Star Wars franchise?'].value_counts()"
   ]
  },
  {
   "cell_type": "code",
   "execution_count": 9,
   "metadata": {
    "collapsed": false
   },
   "outputs": [
    {
     "data": {
      "text/plain": [
       "Yes    552\n",
       "No     284\n",
       "dtype: int64"
      ]
     },
     "execution_count": 9,
     "metadata": {},
     "output_type": "execute_result"
    }
   ],
   "source": [
    "star_wars['Do you consider yourself to be a fan of the Star Wars film franchise?'].value_counts()"
   ]
  },
  {
   "cell_type": "code",
   "execution_count": 10,
   "metadata": {
    "collapsed": false
   },
   "outputs": [
    {
     "data": {
      "text/plain": [
       "True     552\n",
       "False    284\n",
       "dtype: int64"
      ]
     },
     "execution_count": 10,
     "metadata": {},
     "output_type": "execute_result"
    }
   ],
   "source": [
    "star_wars['Do you consider yourself to be a fan of the Star Wars film franchise?'] = star_wars['Do you consider yourself to be a fan of the Star Wars film franchise?'].map({'Yes': True, 'No': False})\n",
    "star_wars['Do you consider yourself to be a fan of the Star Wars film franchise?'].value_counts()"
   ]
  },
  {
   "cell_type": "code",
   "execution_count": 11,
   "metadata": {
    "collapsed": false
   },
   "outputs": [
    {
     "data": {
      "text/html": [
       "<div style=\"max-height:1000px;max-width:1500px;overflow:auto;\">\n",
       "<table border=\"1\" class=\"dataframe\">\n",
       "  <thead>\n",
       "    <tr style=\"text-align: right;\">\n",
       "      <th></th>\n",
       "      <th>Which of the following Star Wars films have you seen? Please select all that apply.</th>\n",
       "      <th>Unnamed: 4</th>\n",
       "      <th>Unnamed: 5</th>\n",
       "      <th>Unnamed: 6</th>\n",
       "      <th>Unnamed: 7</th>\n",
       "      <th>Unnamed: 8</th>\n",
       "    </tr>\n",
       "  </thead>\n",
       "  <tbody>\n",
       "    <tr>\n",
       "      <th>1</th>\n",
       "      <td>  True</td>\n",
       "      <td>  True</td>\n",
       "      <td>  True</td>\n",
       "      <td>  True</td>\n",
       "      <td>  True</td>\n",
       "      <td>  True</td>\n",
       "    </tr>\n",
       "    <tr>\n",
       "      <th>2</th>\n",
       "      <td> False</td>\n",
       "      <td> False</td>\n",
       "      <td> False</td>\n",
       "      <td> False</td>\n",
       "      <td> False</td>\n",
       "      <td> False</td>\n",
       "    </tr>\n",
       "    <tr>\n",
       "      <th>3</th>\n",
       "      <td>  True</td>\n",
       "      <td>  True</td>\n",
       "      <td>  True</td>\n",
       "      <td> False</td>\n",
       "      <td> False</td>\n",
       "      <td> False</td>\n",
       "    </tr>\n",
       "    <tr>\n",
       "      <th>4</th>\n",
       "      <td>  True</td>\n",
       "      <td>  True</td>\n",
       "      <td>  True</td>\n",
       "      <td>  True</td>\n",
       "      <td>  True</td>\n",
       "      <td>  True</td>\n",
       "    </tr>\n",
       "    <tr>\n",
       "      <th>5</th>\n",
       "      <td>  True</td>\n",
       "      <td>  True</td>\n",
       "      <td>  True</td>\n",
       "      <td>  True</td>\n",
       "      <td>  True</td>\n",
       "      <td>  True</td>\n",
       "    </tr>\n",
       "  </tbody>\n",
       "</table>\n",
       "</div>"
      ],
      "text/plain": [
       "  Which of the following Star Wars films have you seen? Please select all that apply.  \\\n",
       "1                                               True                                    \n",
       "2                                              False                                    \n",
       "3                                               True                                    \n",
       "4                                               True                                    \n",
       "5                                               True                                    \n",
       "\n",
       "  Unnamed: 4 Unnamed: 5 Unnamed: 6 Unnamed: 7 Unnamed: 8  \n",
       "1       True       True       True       True       True  \n",
       "2      False      False      False      False      False  \n",
       "3       True       True      False      False      False  \n",
       "4       True       True       True       True       True  \n",
       "5       True       True       True       True       True  "
      ]
     },
     "execution_count": 11,
     "metadata": {},
     "output_type": "execute_result"
    }
   ],
   "source": [
    "maps = {\n",
    "  'Star Wars: Episode I  The Phantom Menace': True,\n",
    "  'Star Wars: Episode II  Attack of the Clones': True,\n",
    "  'Star Wars: Episode III  Revenge of the Sith': True,\n",
    "  'Star Wars: Episode IV  A New Hope': True,\n",
    "  'Star Wars: Episode V The Empire Strikes Back': True,\n",
    "  'Star Wars: Episode VI Return of the Jedi': True,\n",
    "  True: True,\n",
    "  False: False,\n",
    "  np.nan: False\n",
    "}\n",
    "star_wars[star_wars.columns[3:9]] = star_wars[star_wars.columns[3:9]].apply(lambda column: column.map(maps), axis=0)\n",
    "star_wars[star_wars.columns[3:9]].head()"
   ]
  },
  {
   "cell_type": "code",
   "execution_count": 12,
   "metadata": {
    "collapsed": false
   },
   "outputs": [
    {
     "data": {
      "text/html": [
       "<div style=\"max-height:1000px;max-width:1500px;overflow:auto;\">\n",
       "<table border=\"1\" class=\"dataframe\">\n",
       "  <thead>\n",
       "    <tr style=\"text-align: right;\">\n",
       "      <th></th>\n",
       "      <th>seen1</th>\n",
       "      <th>seen2</th>\n",
       "      <th>seen3</th>\n",
       "      <th>seen4</th>\n",
       "      <th>seen5</th>\n",
       "      <th>seen6</th>\n",
       "    </tr>\n",
       "  </thead>\n",
       "  <tbody>\n",
       "    <tr>\n",
       "      <th>1</th>\n",
       "      <td>  True</td>\n",
       "      <td>  True</td>\n",
       "      <td>  True</td>\n",
       "      <td>  True</td>\n",
       "      <td>  True</td>\n",
       "      <td>  True</td>\n",
       "    </tr>\n",
       "    <tr>\n",
       "      <th>2</th>\n",
       "      <td> False</td>\n",
       "      <td> False</td>\n",
       "      <td> False</td>\n",
       "      <td> False</td>\n",
       "      <td> False</td>\n",
       "      <td> False</td>\n",
       "    </tr>\n",
       "    <tr>\n",
       "      <th>3</th>\n",
       "      <td>  True</td>\n",
       "      <td>  True</td>\n",
       "      <td>  True</td>\n",
       "      <td> False</td>\n",
       "      <td> False</td>\n",
       "      <td> False</td>\n",
       "    </tr>\n",
       "    <tr>\n",
       "      <th>4</th>\n",
       "      <td>  True</td>\n",
       "      <td>  True</td>\n",
       "      <td>  True</td>\n",
       "      <td>  True</td>\n",
       "      <td>  True</td>\n",
       "      <td>  True</td>\n",
       "    </tr>\n",
       "    <tr>\n",
       "      <th>5</th>\n",
       "      <td>  True</td>\n",
       "      <td>  True</td>\n",
       "      <td>  True</td>\n",
       "      <td>  True</td>\n",
       "      <td>  True</td>\n",
       "      <td>  True</td>\n",
       "    </tr>\n",
       "  </tbody>\n",
       "</table>\n",
       "</div>"
      ],
      "text/plain": [
       "   seen1  seen2  seen3  seen4  seen5  seen6\n",
       "1   True   True   True   True   True   True\n",
       "2  False  False  False  False  False  False\n",
       "3   True   True   True  False  False  False\n",
       "4   True   True   True   True   True   True\n",
       "5   True   True   True   True   True   True"
      ]
     },
     "execution_count": 12,
     "metadata": {},
     "output_type": "execute_result"
    }
   ],
   "source": [
    "seen = {\n",
    "  'Which of the following Star Wars films have you seen? Please select all that apply.': 'seen1',\n",
    "  'Unnamed: 4': 'seen2',\n",
    "  'Unnamed: 5': 'seen3',\n",
    "  'Unnamed: 6': 'seen4',\n",
    "  'Unnamed: 7': 'seen5',\n",
    "  'Unnamed: 8': 'seen6'\n",
    "}\n",
    "star_wars.rename(columns=seen, inplace=True)\n",
    "star_wars[star_wars.columns[3:9]].head()"
   ]
  },
  {
   "cell_type": "code",
   "execution_count": 13,
   "metadata": {
    "collapsed": false
   },
   "outputs": [
    {
     "data": {
      "text/html": [
       "<div style=\"max-height:1000px;max-width:1500px;overflow:auto;\">\n",
       "<table border=\"1\" class=\"dataframe\">\n",
       "  <thead>\n",
       "    <tr style=\"text-align: right;\">\n",
       "      <th></th>\n",
       "      <th>Please rank the Star Wars films in order of preference with 1 being your favorite film in the franchise and 6 being your least favorite film.</th>\n",
       "      <th>Unnamed: 10</th>\n",
       "      <th>Unnamed: 11</th>\n",
       "      <th>Unnamed: 12</th>\n",
       "      <th>Unnamed: 13</th>\n",
       "      <th>Unnamed: 14</th>\n",
       "    </tr>\n",
       "  </thead>\n",
       "  <tbody>\n",
       "    <tr>\n",
       "      <th>1</th>\n",
       "      <td>   3</td>\n",
       "      <td>   2</td>\n",
       "      <td>   1</td>\n",
       "      <td>   4</td>\n",
       "      <td>   5</td>\n",
       "      <td>   6</td>\n",
       "    </tr>\n",
       "    <tr>\n",
       "      <th>2</th>\n",
       "      <td> NaN</td>\n",
       "      <td> NaN</td>\n",
       "      <td> NaN</td>\n",
       "      <td> NaN</td>\n",
       "      <td> NaN</td>\n",
       "      <td> NaN</td>\n",
       "    </tr>\n",
       "    <tr>\n",
       "      <th>3</th>\n",
       "      <td>   1</td>\n",
       "      <td>   2</td>\n",
       "      <td>   3</td>\n",
       "      <td>   4</td>\n",
       "      <td>   5</td>\n",
       "      <td>   6</td>\n",
       "    </tr>\n",
       "    <tr>\n",
       "      <th>4</th>\n",
       "      <td>   5</td>\n",
       "      <td>   6</td>\n",
       "      <td>   1</td>\n",
       "      <td>   2</td>\n",
       "      <td>   4</td>\n",
       "      <td>   3</td>\n",
       "    </tr>\n",
       "    <tr>\n",
       "      <th>5</th>\n",
       "      <td>   5</td>\n",
       "      <td>   4</td>\n",
       "      <td>   6</td>\n",
       "      <td>   2</td>\n",
       "      <td>   1</td>\n",
       "      <td>   3</td>\n",
       "    </tr>\n",
       "  </tbody>\n",
       "</table>\n",
       "</div>"
      ],
      "text/plain": [
       "  Please rank the Star Wars films in order of preference with 1 being your favorite film in the franchise and 6 being your least favorite film.  \\\n",
       "1                                                  3                                                                                              \n",
       "2                                                NaN                                                                                              \n",
       "3                                                  1                                                                                              \n",
       "4                                                  5                                                                                              \n",
       "5                                                  5                                                                                              \n",
       "\n",
       "  Unnamed: 10 Unnamed: 11 Unnamed: 12 Unnamed: 13 Unnamed: 14  \n",
       "1           2           1           4           5           6  \n",
       "2         NaN         NaN         NaN         NaN         NaN  \n",
       "3           2           3           4           5           6  \n",
       "4           6           1           2           4           3  \n",
       "5           4           6           2           1           3  "
      ]
     },
     "execution_count": 13,
     "metadata": {},
     "output_type": "execute_result"
    }
   ],
   "source": [
    "star_wars[star_wars.columns[9:15]].head()"
   ]
  },
  {
   "cell_type": "code",
   "execution_count": 14,
   "metadata": {
    "collapsed": false
   },
   "outputs": [
    {
     "data": {
      "text/plain": [
       "Please rank the Star Wars films in order of preference with 1 being your favorite film in the franchise and 6 being your least favorite film.    object\n",
       "Unnamed: 10                                                     object\n",
       "Unnamed: 11                                                     object\n",
       "Unnamed: 12                                                     object\n",
       "Unnamed: 13                                                     object\n",
       "Unnamed: 14                                                     object\n",
       "dtype: object"
      ]
     },
     "execution_count": 14,
     "metadata": {},
     "output_type": "execute_result"
    }
   ],
   "source": [
    "star_wars[star_wars.columns[9:15]].dtypes"
   ]
  },
  {
   "cell_type": "code",
   "execution_count": 15,
   "metadata": {
    "collapsed": false
   },
   "outputs": [
    {
     "data": {
      "text/html": [
       "<div style=\"max-height:1000px;max-width:1500px;overflow:auto;\">\n",
       "<table border=\"1\" class=\"dataframe\">\n",
       "  <thead>\n",
       "    <tr style=\"text-align: right;\">\n",
       "      <th></th>\n",
       "      <th>Please rank the Star Wars films in order of preference with 1 being your favorite film in the franchise and 6 being your least favorite film.</th>\n",
       "      <th>Unnamed: 10</th>\n",
       "      <th>Unnamed: 11</th>\n",
       "      <th>Unnamed: 12</th>\n",
       "      <th>Unnamed: 13</th>\n",
       "      <th>Unnamed: 14</th>\n",
       "    </tr>\n",
       "  </thead>\n",
       "  <tbody>\n",
       "    <tr>\n",
       "      <th>1</th>\n",
       "      <td>  3</td>\n",
       "      <td>  2</td>\n",
       "      <td>  1</td>\n",
       "      <td>  4</td>\n",
       "      <td>  5</td>\n",
       "      <td>  6</td>\n",
       "    </tr>\n",
       "    <tr>\n",
       "      <th>2</th>\n",
       "      <td>NaN</td>\n",
       "      <td>NaN</td>\n",
       "      <td>NaN</td>\n",
       "      <td>NaN</td>\n",
       "      <td>NaN</td>\n",
       "      <td>NaN</td>\n",
       "    </tr>\n",
       "    <tr>\n",
       "      <th>3</th>\n",
       "      <td>  1</td>\n",
       "      <td>  2</td>\n",
       "      <td>  3</td>\n",
       "      <td>  4</td>\n",
       "      <td>  5</td>\n",
       "      <td>  6</td>\n",
       "    </tr>\n",
       "    <tr>\n",
       "      <th>4</th>\n",
       "      <td>  5</td>\n",
       "      <td>  6</td>\n",
       "      <td>  1</td>\n",
       "      <td>  2</td>\n",
       "      <td>  4</td>\n",
       "      <td>  3</td>\n",
       "    </tr>\n",
       "    <tr>\n",
       "      <th>5</th>\n",
       "      <td>  5</td>\n",
       "      <td>  4</td>\n",
       "      <td>  6</td>\n",
       "      <td>  2</td>\n",
       "      <td>  1</td>\n",
       "      <td>  3</td>\n",
       "    </tr>\n",
       "  </tbody>\n",
       "</table>\n",
       "</div>"
      ],
      "text/plain": [
       "   Please rank the Star Wars films in order of preference with 1 being your favorite film in the franchise and 6 being your least favorite film.  \\\n",
       "1                                                  3                                                                                               \n",
       "2                                                NaN                                                                                               \n",
       "3                                                  1                                                                                               \n",
       "4                                                  5                                                                                               \n",
       "5                                                  5                                                                                               \n",
       "\n",
       "   Unnamed: 10  Unnamed: 11  Unnamed: 12  Unnamed: 13  Unnamed: 14  \n",
       "1            2            1            4            5            6  \n",
       "2          NaN          NaN          NaN          NaN          NaN  \n",
       "3            2            3            4            5            6  \n",
       "4            6            1            2            4            3  \n",
       "5            4            6            2            1            3  "
      ]
     },
     "execution_count": 15,
     "metadata": {},
     "output_type": "execute_result"
    }
   ],
   "source": [
    "star_wars[star_wars.columns[9:15]] = star_wars[star_wars.columns[9:15]].astype(float)\n",
    "star_wars[star_wars.columns[9:15]].head()"
   ]
  },
  {
   "cell_type": "code",
   "execution_count": 16,
   "metadata": {
    "collapsed": false
   },
   "outputs": [
    {
     "data": {
      "text/html": [
       "<div style=\"max-height:1000px;max-width:1500px;overflow:auto;\">\n",
       "<table border=\"1\" class=\"dataframe\">\n",
       "  <thead>\n",
       "    <tr style=\"text-align: right;\">\n",
       "      <th></th>\n",
       "      <th>ranking_1</th>\n",
       "      <th>ranking_2</th>\n",
       "      <th>ranking_3</th>\n",
       "      <th>ranking_4</th>\n",
       "      <th>ranking_5</th>\n",
       "      <th>ranking_6</th>\n",
       "    </tr>\n",
       "  </thead>\n",
       "  <tbody>\n",
       "    <tr>\n",
       "      <th>1</th>\n",
       "      <td>  3</td>\n",
       "      <td>  2</td>\n",
       "      <td>  1</td>\n",
       "      <td>  4</td>\n",
       "      <td>  5</td>\n",
       "      <td>  6</td>\n",
       "    </tr>\n",
       "    <tr>\n",
       "      <th>2</th>\n",
       "      <td>NaN</td>\n",
       "      <td>NaN</td>\n",
       "      <td>NaN</td>\n",
       "      <td>NaN</td>\n",
       "      <td>NaN</td>\n",
       "      <td>NaN</td>\n",
       "    </tr>\n",
       "    <tr>\n",
       "      <th>3</th>\n",
       "      <td>  1</td>\n",
       "      <td>  2</td>\n",
       "      <td>  3</td>\n",
       "      <td>  4</td>\n",
       "      <td>  5</td>\n",
       "      <td>  6</td>\n",
       "    </tr>\n",
       "    <tr>\n",
       "      <th>4</th>\n",
       "      <td>  5</td>\n",
       "      <td>  6</td>\n",
       "      <td>  1</td>\n",
       "      <td>  2</td>\n",
       "      <td>  4</td>\n",
       "      <td>  3</td>\n",
       "    </tr>\n",
       "    <tr>\n",
       "      <th>5</th>\n",
       "      <td>  5</td>\n",
       "      <td>  4</td>\n",
       "      <td>  6</td>\n",
       "      <td>  2</td>\n",
       "      <td>  1</td>\n",
       "      <td>  3</td>\n",
       "    </tr>\n",
       "  </tbody>\n",
       "</table>\n",
       "</div>"
      ],
      "text/plain": [
       "   ranking_1  ranking_2  ranking_3  ranking_4  ranking_5  ranking_6\n",
       "1          3          2          1          4          5          6\n",
       "2        NaN        NaN        NaN        NaN        NaN        NaN\n",
       "3          1          2          3          4          5          6\n",
       "4          5          6          1          2          4          3\n",
       "5          5          4          6          2          1          3"
      ]
     },
     "execution_count": 16,
     "metadata": {},
     "output_type": "execute_result"
    }
   ],
   "source": [
    "ranking = {\n",
    "  'Please rank the Star Wars films in order of preference with 1 being your favorite film in the franchise and 6 being your least favorite film.': 'ranking_1',\n",
    "  'Unnamed: 10': 'ranking_2',\n",
    "  'Unnamed: 11': 'ranking_3',\n",
    "  'Unnamed: 12': 'ranking_4',\n",
    "  'Unnamed: 13': 'ranking_5',\n",
    "  'Unnamed: 14': 'ranking_6'\n",
    "}\n",
    "star_wars.rename(columns=ranking, inplace=True)\n",
    "star_wars[star_wars.columns[9:15]].head()"
   ]
  },
  {
   "cell_type": "code",
   "execution_count": 17,
   "metadata": {
    "collapsed": false
   },
   "outputs": [
    {
     "data": {
      "text/plain": [
       "ranking_1    3.732934\n",
       "ranking_2    4.087321\n",
       "ranking_3    4.341317\n",
       "ranking_4    3.272727\n",
       "ranking_5    2.513158\n",
       "ranking_6    3.047847\n",
       "dtype: float64"
      ]
     },
     "execution_count": 17,
     "metadata": {},
     "output_type": "execute_result"
    }
   ],
   "source": [
    "star_wars[star_wars.columns[9:15]].mean()"
   ]
  },
  {
   "cell_type": "code",
   "execution_count": 18,
   "metadata": {
    "collapsed": false
   },
   "outputs": [
    {
     "data": {
      "image/png": "[encoded data removed]",
      "text/plain": [
       "<matplotlib.figure.Figure at 0x7f27d5b592b0>"
      ]
     },
     "metadata": {},
     "output_type": "display_data"
    }
   ],
   "source": [
    "star_wars[star_wars.columns[9:15]].mean().plot(kind='bar')\n",
    "sns.plt.show()"
   ]
  },
  {
   "cell_type": "markdown",
   "metadata": {},
   "source": [
    "The bar chart above shows the average rankings of each Star Wars series.\n",
    "\n",
    "The lover the value of ranking, the better the ranking of that particular series of Star Wars is."
   ]
  },
  {
   "cell_type": "code",
   "execution_count": 19,
   "metadata": {
    "collapsed": false
   },
   "outputs": [
    {
     "data": {
      "text/plain": [
       "seen1    673\n",
       "seen2    571\n",
       "seen3    550\n",
       "seen4    607\n",
       "seen5    758\n",
       "seen6    738\n",
       "dtype: int64"
      ]
     },
     "execution_count": 19,
     "metadata": {},
     "output_type": "execute_result"
    }
   ],
   "source": [
    "star_wars[star_wars.columns[3:9]].sum()"
   ]
  },
  {
   "cell_type": "code",
   "execution_count": 20,
   "metadata": {
    "collapsed": false
   },
   "outputs": [
    {
     "data": {
      "image/png": "[encoded data removed]",
      "text/plain": [
       "<matplotlib.figure.Figure at 0x7f27d5b59940>"
      ]
     },
     "metadata": {},
     "output_type": "display_data"
    }
   ],
   "source": [
    "star_wars[star_wars.columns[3:9]].sum().plot(kind='bar')\n",
    "sns.plt.show()"
   ]
  },
  {
   "cell_type": "markdown",
   "metadata": {},
   "source": [
    "The bar chart above shows the total number of views of each Star Wars series.\n",
    "\n",
    "Comparing 2 bar charts, we can conclude that the greater the number of views, the greater the ranking is."
   ]
  },
  {
   "cell_type": "code",
   "execution_count": 21,
   "metadata": {
    "collapsed": true
   },
   "outputs": [],
   "source": [
    "males = star_wars[star_wars[\"Gender\"] == \"Male\"]\n",
    "females = star_wars[star_wars[\"Gender\"] == \"Female\"]\n",
    "ranking_sex = pd.DataFrame({'males': males[males.columns[9:15]].mean(), 'females': females[females.columns[9:15]].mean()})"
   ]
  },
  {
   "cell_type": "code",
   "execution_count": 22,
   "metadata": {
    "collapsed": false
   },
   "outputs": [
    {
     "data": {
      "image/png": "[encoded data removed]",
      "text/plain": [
       "<matplotlib.figure.Figure at 0x7f27d5a55278>"
      ]
     },
     "metadata": {},
     "output_type": "display_data"
    }
   ],
   "source": [
    "seen_sex = pd.DataFrame({'males': males[males.columns[3:9]].sum(), 'females': females[females.columns[3:9]].sum()})\n",
    "fig = plt.figure(figsize=(20, 6))\n",
    "ax1 = fig.add_subplot(1, 2, 1)\n",
    "ax2 = fig.add_subplot(1, 2, 2)\n",
    "ranking_sex.plot(kind='bar', ax=ax1)\n",
    "seen_sex.plot(kind='bar', ax=ax2)\n",
    "sns.plt.show()"
   ]
  },
  {
   "cell_type": "markdown",
   "metadata": {},
   "source": [
    "The above 2 bar charts shows the rankings and number of views segmented by genders.\n",
    "\n",
    "In conclusion, males preferences as shown by the rankings are slightly extreme than females.\n",
    "\n",
    "In addition, males tend to love to watch Star Wars more than females, unaffected by preferences."
   ]
  }
 ],
 "metadata": {
  "kernelspec": {
   "display_name": "Python 3",
   "language": "python",
   "name": "python3"
  },
  "language_info": {
   "codemirror_mode": {
    "name": "ipython",
    "version": 3
   },
   "file_extension": ".py",
   "mimetype": "text/x-python",
   "name": "python",
   "nbconvert_exporter": "python",
   "pygments_lexer": "ipython3",
   "version": "3.4.3"
  }
 },
 "nbformat": 4,
 "nbformat_minor": 0
}
