{
 "cells": [
  {
   "cell_type": "code",
   "execution_count": 1,
   "metadata": {
    "collapsed": true
   },
   "outputs": [],
   "source": [
    "import numpy as np\n",
    "import pandas as pd\n",
    "import matplotlib.pyplot as plt\n",
    "from sklearn.cluster import KMeans\n",
    "from sklearn.linear_model import LinearRegression\n",
    "%matplotlib inline"
   ]
  },
  {
   "cell_type": "code",
   "execution_count": 2,
   "metadata": {
    "collapsed": false
   },
   "outputs": [
    {
     "data": {
      "text/html": [
       "<div style=\"max-height:1000px;max-width:1500px;overflow:auto;\">\n",
       "<table border=\"1\" class=\"dataframe\">\n",
       "  <thead>\n",
       "    <tr style=\"text-align: right;\">\n",
       "      <th></th>\n",
       "      <th>id</th>\n",
       "      <th>type</th>\n",
       "      <th>name</th>\n",
       "      <th>yearpublished</th>\n",
       "      <th>minplayers</th>\n",
       "      <th>maxplayers</th>\n",
       "      <th>playingtime</th>\n",
       "      <th>minplaytime</th>\n",
       "      <th>maxplaytime</th>\n",
       "      <th>minage</th>\n",
       "      <th>users_rated</th>\n",
       "      <th>average_rating</th>\n",
       "      <th>bayes_average_rating</th>\n",
       "      <th>total_owners</th>\n",
       "      <th>total_traders</th>\n",
       "      <th>total_wanters</th>\n",
       "      <th>total_wishers</th>\n",
       "      <th>total_comments</th>\n",
       "      <th>total_weights</th>\n",
       "      <th>average_weight</th>\n",
       "    </tr>\n",
       "  </thead>\n",
       "  <tbody>\n",
       "    <tr>\n",
       "      <th>0</th>\n",
       "      <td>  12333</td>\n",
       "      <td> boardgame</td>\n",
       "      <td>                         Twilight Struggle</td>\n",
       "      <td> 2005</td>\n",
       "      <td> 2</td>\n",
       "      <td> 2</td>\n",
       "      <td> 180</td>\n",
       "      <td> 180</td>\n",
       "      <td> 180</td>\n",
       "      <td> 13</td>\n",
       "      <td> 20113</td>\n",
       "      <td> 8.33774</td>\n",
       "      <td> 8.22186</td>\n",
       "      <td> 26647</td>\n",
       "      <td> 372</td>\n",
       "      <td> 1219</td>\n",
       "      <td> 5865</td>\n",
       "      <td> 5347</td>\n",
       "      <td> 2562</td>\n",
       "      <td> 3.4785</td>\n",
       "    </tr>\n",
       "    <tr>\n",
       "      <th>1</th>\n",
       "      <td> 120677</td>\n",
       "      <td> boardgame</td>\n",
       "      <td>                             Terra Mystica</td>\n",
       "      <td> 2012</td>\n",
       "      <td> 2</td>\n",
       "      <td> 5</td>\n",
       "      <td> 150</td>\n",
       "      <td>  60</td>\n",
       "      <td> 150</td>\n",
       "      <td> 12</td>\n",
       "      <td> 14383</td>\n",
       "      <td> 8.28798</td>\n",
       "      <td> 8.14232</td>\n",
       "      <td> 16519</td>\n",
       "      <td> 132</td>\n",
       "      <td> 1586</td>\n",
       "      <td> 6277</td>\n",
       "      <td> 2526</td>\n",
       "      <td> 1423</td>\n",
       "      <td> 3.8939</td>\n",
       "    </tr>\n",
       "    <tr>\n",
       "      <th>2</th>\n",
       "      <td> 102794</td>\n",
       "      <td> boardgame</td>\n",
       "      <td>                 Caverna: The Cave Farmers</td>\n",
       "      <td> 2013</td>\n",
       "      <td> 1</td>\n",
       "      <td> 7</td>\n",
       "      <td> 210</td>\n",
       "      <td>  30</td>\n",
       "      <td> 210</td>\n",
       "      <td> 12</td>\n",
       "      <td>  9262</td>\n",
       "      <td> 8.28994</td>\n",
       "      <td> 8.06886</td>\n",
       "      <td> 12230</td>\n",
       "      <td>  99</td>\n",
       "      <td> 1476</td>\n",
       "      <td> 5600</td>\n",
       "      <td> 1700</td>\n",
       "      <td>  777</td>\n",
       "      <td> 3.7761</td>\n",
       "    </tr>\n",
       "    <tr>\n",
       "      <th>3</th>\n",
       "      <td>  25613</td>\n",
       "      <td> boardgame</td>\n",
       "      <td> Through the Ages: A Story of Civilization</td>\n",
       "      <td> 2006</td>\n",
       "      <td> 2</td>\n",
       "      <td> 4</td>\n",
       "      <td> 240</td>\n",
       "      <td> 240</td>\n",
       "      <td> 240</td>\n",
       "      <td> 12</td>\n",
       "      <td> 13294</td>\n",
       "      <td> 8.20407</td>\n",
       "      <td> 8.05804</td>\n",
       "      <td> 14343</td>\n",
       "      <td> 362</td>\n",
       "      <td> 1084</td>\n",
       "      <td> 5075</td>\n",
       "      <td> 3378</td>\n",
       "      <td> 1642</td>\n",
       "      <td> 4.1590</td>\n",
       "    </tr>\n",
       "    <tr>\n",
       "      <th>4</th>\n",
       "      <td>   3076</td>\n",
       "      <td> boardgame</td>\n",
       "      <td>                               Puerto Rico</td>\n",
       "      <td> 2002</td>\n",
       "      <td> 2</td>\n",
       "      <td> 5</td>\n",
       "      <td> 150</td>\n",
       "      <td>  90</td>\n",
       "      <td> 150</td>\n",
       "      <td> 12</td>\n",
       "      <td> 39883</td>\n",
       "      <td> 8.14261</td>\n",
       "      <td> 8.04524</td>\n",
       "      <td> 44362</td>\n",
       "      <td> 795</td>\n",
       "      <td>  861</td>\n",
       "      <td> 5414</td>\n",
       "      <td> 9173</td>\n",
       "      <td> 5213</td>\n",
       "      <td> 3.2943</td>\n",
       "    </tr>\n",
       "  </tbody>\n",
       "</table>\n",
       "</div>"
      ],
      "text/plain": [
       "       id       type                                       name  \\\n",
       "0   12333  boardgame                          Twilight Struggle   \n",
       "1  120677  boardgame                              Terra Mystica   \n",
       "2  102794  boardgame                  Caverna: The Cave Farmers   \n",
       "3   25613  boardgame  Through the Ages: A Story of Civilization   \n",
       "4    3076  boardgame                                Puerto Rico   \n",
       "\n",
       "   yearpublished  minplayers  maxplayers  playingtime  minplaytime  \\\n",
       "0           2005           2           2          180          180   \n",
       "1           2012           2           5          150           60   \n",
       "2           2013           1           7          210           30   \n",
       "3           2006           2           4          240          240   \n",
       "4           2002           2           5          150           90   \n",
       "\n",
       "   maxplaytime  minage  users_rated  average_rating  bayes_average_rating  \\\n",
       "0          180      13        20113         8.33774               8.22186   \n",
       "1          150      12        14383         8.28798               8.14232   \n",
       "2          210      12         9262         8.28994               8.06886   \n",
       "3          240      12        13294         8.20407               8.05804   \n",
       "4          150      12        39883         8.14261               8.04524   \n",
       "\n",
       "   total_owners  total_traders  total_wanters  total_wishers  total_comments  \\\n",
       "0         26647            372           1219           5865            5347   \n",
       "1         16519            132           1586           6277            2526   \n",
       "2         12230             99           1476           5600            1700   \n",
       "3         14343            362           1084           5075            3378   \n",
       "4         44362            795            861           5414            9173   \n",
       "\n",
       "   total_weights  average_weight  \n",
       "0           2562          3.4785  \n",
       "1           1423          3.8939  \n",
       "2            777          3.7761  \n",
       "3           1642          4.1590  \n",
       "4           5213          3.2943  "
      ]
     },
     "execution_count": 2,
     "metadata": {},
     "output_type": "execute_result"
    }
   ],
   "source": [
    "board_games = pd.read_csv('board_games.csv')\n",
    "board_games.head()"
   ]
  },
  {
   "cell_type": "code",
   "execution_count": 3,
   "metadata": {
    "collapsed": false
   },
   "outputs": [
    {
     "data": {
      "text/plain": [
       "(81312, 20)"
      ]
     },
     "execution_count": 3,
     "metadata": {},
     "output_type": "execute_result"
    }
   ],
   "source": [
    "board_games.shape"
   ]
  },
  {
   "cell_type": "code",
   "execution_count": 4,
   "metadata": {
    "collapsed": false
   },
   "outputs": [
    {
     "data": {
      "text/plain": [
       "(81268, 20)"
      ]
     },
     "execution_count": 4,
     "metadata": {},
     "output_type": "execute_result"
    }
   ],
   "source": [
    "board_games.dropna(axis=0, inplace=True)\n",
    "board_games.shape"
   ]
  },
  {
   "cell_type": "code",
   "execution_count": 5,
   "metadata": {
    "collapsed": false
   },
   "outputs": [
    {
     "data": {
      "text/plain": [
       "(56894, 20)"
      ]
     },
     "execution_count": 5,
     "metadata": {},
     "output_type": "execute_result"
    }
   ],
   "source": [
    "board_games = board_games[board_games['users_rated'] > 0]\n",
    "board_games.shape"
   ]
  },
  {
   "cell_type": "code",
   "execution_count": 6,
   "metadata": {
    "collapsed": false
   },
   "outputs": [
    {
     "data": {
      "image/png": "[encoded data removed]",
      "text/plain": [
       "<matplotlib.figure.Figure at 0x7f788f947be0>"
      ]
     },
     "metadata": {},
     "output_type": "display_data"
    }
   ],
   "source": [
    "board_games['average_rating'].hist()\n",
    "plt.show()"
   ]
  },
  {
   "cell_type": "code",
   "execution_count": 7,
   "metadata": {
    "collapsed": false
   },
   "outputs": [
    {
     "data": {
      "text/plain": [
       "1.5788299348332933"
      ]
     },
     "execution_count": 7,
     "metadata": {},
     "output_type": "execute_result"
    }
   ],
   "source": [
    "std = board_games['average_rating'].std()\n",
    "std"
   ]
  },
  {
   "cell_type": "code",
   "execution_count": 8,
   "metadata": {
    "collapsed": false
   },
   "outputs": [
    {
     "data": {
      "text/plain": [
       "6.0161128493338492"
      ]
     },
     "execution_count": 8,
     "metadata": {},
     "output_type": "execute_result"
    }
   ],
   "source": [
    "board_games['average_rating'].mean()"
   ]
  },
  {
   "cell_type": "code",
   "execution_count": 9,
   "metadata": {
    "collapsed": false
   },
   "outputs": [
    {
     "data": {
      "text/html": [
       "<div style=\"max-height:1000px;max-width:1500px;overflow:auto;\">\n",
       "<table border=\"1\" class=\"dataframe\">\n",
       "  <thead>\n",
       "    <tr style=\"text-align: right;\">\n",
       "      <th></th>\n",
       "      <th>yearpublished</th>\n",
       "      <th>minplayers</th>\n",
       "      <th>maxplayers</th>\n",
       "      <th>playingtime</th>\n",
       "      <th>minplaytime</th>\n",
       "      <th>maxplaytime</th>\n",
       "      <th>minage</th>\n",
       "      <th>users_rated</th>\n",
       "      <th>average_rating</th>\n",
       "      <th>bayes_average_rating</th>\n",
       "      <th>total_owners</th>\n",
       "      <th>total_traders</th>\n",
       "      <th>total_wanters</th>\n",
       "      <th>total_wishers</th>\n",
       "      <th>total_comments</th>\n",
       "      <th>total_weights</th>\n",
       "      <th>average_weight</th>\n",
       "    </tr>\n",
       "  </thead>\n",
       "  <tbody>\n",
       "    <tr>\n",
       "      <th>0</th>\n",
       "      <td> 2005</td>\n",
       "      <td> 2</td>\n",
       "      <td> 2</td>\n",
       "      <td> 180</td>\n",
       "      <td> 180</td>\n",
       "      <td> 180</td>\n",
       "      <td> 13</td>\n",
       "      <td> 20113</td>\n",
       "      <td> 8.33774</td>\n",
       "      <td> 8.22186</td>\n",
       "      <td> 26647</td>\n",
       "      <td> 372</td>\n",
       "      <td> 1219</td>\n",
       "      <td> 5865</td>\n",
       "      <td> 5347</td>\n",
       "      <td> 2562</td>\n",
       "      <td> 3.4785</td>\n",
       "    </tr>\n",
       "    <tr>\n",
       "      <th>1</th>\n",
       "      <td> 2012</td>\n",
       "      <td> 2</td>\n",
       "      <td> 5</td>\n",
       "      <td> 150</td>\n",
       "      <td>  60</td>\n",
       "      <td> 150</td>\n",
       "      <td> 12</td>\n",
       "      <td> 14383</td>\n",
       "      <td> 8.28798</td>\n",
       "      <td> 8.14232</td>\n",
       "      <td> 16519</td>\n",
       "      <td> 132</td>\n",
       "      <td> 1586</td>\n",
       "      <td> 6277</td>\n",
       "      <td> 2526</td>\n",
       "      <td> 1423</td>\n",
       "      <td> 3.8939</td>\n",
       "    </tr>\n",
       "    <tr>\n",
       "      <th>2</th>\n",
       "      <td> 2013</td>\n",
       "      <td> 1</td>\n",
       "      <td> 7</td>\n",
       "      <td> 210</td>\n",
       "      <td>  30</td>\n",
       "      <td> 210</td>\n",
       "      <td> 12</td>\n",
       "      <td>  9262</td>\n",
       "      <td> 8.28994</td>\n",
       "      <td> 8.06886</td>\n",
       "      <td> 12230</td>\n",
       "      <td>  99</td>\n",
       "      <td> 1476</td>\n",
       "      <td> 5600</td>\n",
       "      <td> 1700</td>\n",
       "      <td>  777</td>\n",
       "      <td> 3.7761</td>\n",
       "    </tr>\n",
       "    <tr>\n",
       "      <th>3</th>\n",
       "      <td> 2006</td>\n",
       "      <td> 2</td>\n",
       "      <td> 4</td>\n",
       "      <td> 240</td>\n",
       "      <td> 240</td>\n",
       "      <td> 240</td>\n",
       "      <td> 12</td>\n",
       "      <td> 13294</td>\n",
       "      <td> 8.20407</td>\n",
       "      <td> 8.05804</td>\n",
       "      <td> 14343</td>\n",
       "      <td> 362</td>\n",
       "      <td> 1084</td>\n",
       "      <td> 5075</td>\n",
       "      <td> 3378</td>\n",
       "      <td> 1642</td>\n",
       "      <td> 4.1590</td>\n",
       "    </tr>\n",
       "    <tr>\n",
       "      <th>4</th>\n",
       "      <td> 2002</td>\n",
       "      <td> 2</td>\n",
       "      <td> 5</td>\n",
       "      <td> 150</td>\n",
       "      <td>  90</td>\n",
       "      <td> 150</td>\n",
       "      <td> 12</td>\n",
       "      <td> 39883</td>\n",
       "      <td> 8.14261</td>\n",
       "      <td> 8.04524</td>\n",
       "      <td> 44362</td>\n",
       "      <td> 795</td>\n",
       "      <td>  861</td>\n",
       "      <td> 5414</td>\n",
       "      <td> 9173</td>\n",
       "      <td> 5213</td>\n",
       "      <td> 3.2943</td>\n",
       "    </tr>\n",
       "  </tbody>\n",
       "</table>\n",
       "</div>"
      ],
      "text/plain": [
       "   yearpublished  minplayers  maxplayers  playingtime  minplaytime  \\\n",
       "0           2005           2           2          180          180   \n",
       "1           2012           2           5          150           60   \n",
       "2           2013           1           7          210           30   \n",
       "3           2006           2           4          240          240   \n",
       "4           2002           2           5          150           90   \n",
       "\n",
       "   maxplaytime  minage  users_rated  average_rating  bayes_average_rating  \\\n",
       "0          180      13        20113         8.33774               8.22186   \n",
       "1          150      12        14383         8.28798               8.14232   \n",
       "2          210      12         9262         8.28994               8.06886   \n",
       "3          240      12        13294         8.20407               8.05804   \n",
       "4          150      12        39883         8.14261               8.04524   \n",
       "\n",
       "   total_owners  total_traders  total_wanters  total_wishers  total_comments  \\\n",
       "0         26647            372           1219           5865            5347   \n",
       "1         16519            132           1586           6277            2526   \n",
       "2         12230             99           1476           5600            1700   \n",
       "3         14343            362           1084           5075            3378   \n",
       "4         44362            795            861           5414            9173   \n",
       "\n",
       "   total_weights  average_weight  \n",
       "0           2562          3.4785  \n",
       "1           1423          3.8939  \n",
       "2            777          3.7761  \n",
       "3           1642          4.1590  \n",
       "4           5213          3.2943  "
      ]
     },
     "execution_count": 9,
     "metadata": {},
     "output_type": "execute_result"
    }
   ],
   "source": [
    "numeric_columns = board_games.iloc[:,3:]\n",
    "numeric_columns.head()"
   ]
  },
  {
   "cell_type": "code",
   "execution_count": 10,
   "metadata": {
    "collapsed": false
   },
   "outputs": [
    {
     "data": {
      "text/plain": [
       "KMeans(copy_x=True, init='k-means++', max_iter=300, n_clusters=5, n_init=10,\n",
       "    n_jobs=1, precompute_distances=True, random_state=None, tol=0.0001,\n",
       "    verbose=0)"
      ]
     },
     "execution_count": 10,
     "metadata": {},
     "output_type": "execute_result"
    }
   ],
   "source": [
    "regr = KMeans(n_clusters=5)\n",
    "regr.fit(numeric_columns)"
   ]
  },
  {
   "cell_type": "code",
   "execution_count": 11,
   "metadata": {
    "collapsed": false
   },
   "outputs": [
    {
     "data": {
      "text/plain": [
       "array([1, 1, 1, ..., 0, 0, 0], dtype=int32)"
      ]
     },
     "execution_count": 11,
     "metadata": {},
     "output_type": "execute_result"
    }
   ],
   "source": [
    "labels = regr.labels_\n",
    "labels"
   ]
  },
  {
   "cell_type": "code",
   "execution_count": 12,
   "metadata": {
    "collapsed": false
   },
   "outputs": [
    {
     "data": {
      "text/plain": [
       "0    3806.296359\n",
       "1    2662.195541\n",
       "2    1979.243229\n",
       "3    2467.201242\n",
       "4    6360.675421\n",
       "dtype: float64"
      ]
     },
     "execution_count": 12,
     "metadata": {},
     "output_type": "execute_result"
    }
   ],
   "source": [
    "game_mean = numeric_columns.apply(np.mean, axis=1)\n",
    "game_mean.head()"
   ]
  },
  {
   "cell_type": "code",
   "execution_count": 13,
   "metadata": {
    "collapsed": false
   },
   "outputs": [
    {
     "data": {
      "text/plain": [
       "0     7450.209585\n",
       "1     4933.084135\n",
       "2     3514.218155\n",
       "3     4367.915199\n",
       "4    13321.625345\n",
       "dtype: float64"
      ]
     },
     "execution_count": 13,
     "metadata": {},
     "output_type": "execute_result"
    }
   ],
   "source": [
    "game_std = numeric_columns.apply(np.std, axis=1)\n",
    "game_std.head()"
   ]
  },
  {
   "cell_type": "code",
   "execution_count": 14,
   "metadata": {
    "collapsed": false
   },
   "outputs": [
    {
     "data": {
      "image/png": "[encoded data removed]",
      "text/plain": [
       "<matplotlib.figure.Figure at 0x7f7890c1a2b0>"
      ]
     },
     "metadata": {},
     "output_type": "display_data"
    }
   ],
   "source": [
    "plt.scatter(game_mean, game_std, c=labels)\n",
    "plt.show()"
   ]
  },
  {
   "cell_type": "code",
   "execution_count": 15,
   "metadata": {
    "collapsed": false
   },
   "outputs": [
    {
     "data": {
      "text/plain": [
       "yearpublished           0.108461\n",
       "minplayers             -0.032701\n",
       "maxplayers             -0.008335\n",
       "playingtime             0.048994\n",
       "minplaytime             0.043985\n",
       "maxplaytime             0.048994\n",
       "minage                  0.210049\n",
       "users_rated             0.112564\n",
       "average_rating          1.000000\n",
       "bayes_average_rating    0.231563\n",
       "total_owners            0.137478\n",
       "total_traders           0.119452\n",
       "total_wanters           0.196566\n",
       "total_wishers           0.171375\n",
       "total_comments          0.123714\n",
       "total_weights           0.109691\n",
       "average_weight          0.351081\n",
       "Name: average_rating, dtype: float64"
      ]
     },
     "execution_count": 15,
     "metadata": {},
     "output_type": "execute_result"
    }
   ],
   "source": [
    "numeric_columns.corr()['average_rating']"
   ]
  },
  {
   "cell_type": "code",
   "execution_count": 16,
   "metadata": {
    "collapsed": false
   },
   "outputs": [
    {
     "data": {
      "text/plain": [
       "['id',\n",
       " 'type',\n",
       " 'name',\n",
       " 'yearpublished',\n",
       " 'minplayers',\n",
       " 'maxplayers',\n",
       " 'playingtime',\n",
       " 'minplaytime',\n",
       " 'maxplaytime',\n",
       " 'minage',\n",
       " 'users_rated',\n",
       " 'average_rating',\n",
       " 'bayes_average_rating',\n",
       " 'total_owners',\n",
       " 'total_traders',\n",
       " 'total_wanters',\n",
       " 'total_wishers',\n",
       " 'total_comments',\n",
       " 'total_weights',\n",
       " 'average_weight']"
      ]
     },
     "execution_count": 16,
     "metadata": {},
     "output_type": "execute_result"
    }
   ],
   "source": [
    "cols = list(board_games.columns)\n",
    "cols"
   ]
  },
  {
   "cell_type": "code",
   "execution_count": 17,
   "metadata": {
    "collapsed": false
   },
   "outputs": [
    {
     "data": {
      "text/plain": [
       "['yearpublished',\n",
       " 'minplayers',\n",
       " 'maxplayers',\n",
       " 'playingtime',\n",
       " 'minplaytime',\n",
       " 'maxplaytime',\n",
       " 'minage',\n",
       " 'users_rated',\n",
       " 'total_owners',\n",
       " 'total_traders',\n",
       " 'total_wanters',\n",
       " 'total_wishers',\n",
       " 'total_comments',\n",
       " 'total_weights',\n",
       " 'average_weight']"
      ]
     },
     "execution_count": 17,
     "metadata": {},
     "output_type": "execute_result"
    }
   ],
   "source": [
    "cols.remove('name')\n",
    "cols.remove('id')\n",
    "cols.remove('type')\n",
    "cols.remove('average_rating')\n",
    "cols.remove('bayes_average_rating')\n",
    "cols"
   ]
  },
  {
   "cell_type": "code",
   "execution_count": 18,
   "metadata": {
    "collapsed": false
   },
   "outputs": [
    {
     "data": {
      "text/plain": [
       "LinearRegression(copy_X=True, fit_intercept=True, normalize=False)"
      ]
     },
     "execution_count": 18,
     "metadata": {},
     "output_type": "execute_result"
    }
   ],
   "source": [
    "reg = LinearRegression()\n",
    "reg.fit(board_games[cols], board_games['average_rating'])"
   ]
  },
  {
   "cell_type": "code",
   "execution_count": 19,
   "metadata": {
    "collapsed": false
   },
   "outputs": [
    {
     "data": {
      "text/plain": [
       "array([ 10.63462058,  10.27385741,  10.80123559, ...,   6.1218312 ,\n",
       "         5.53685607,   6.08261916])"
      ]
     },
     "execution_count": 19,
     "metadata": {},
     "output_type": "execute_result"
    }
   ],
   "source": [
    "predictions = reg.predict(board_games[cols])\n",
    "predictions"
   ]
  },
  {
   "cell_type": "code",
   "execution_count": 20,
   "metadata": {
    "collapsed": false
   },
   "outputs": [
    {
     "data": {
      "text/plain": [
       "2.093398628538742"
      ]
     },
     "execution_count": 20,
     "metadata": {},
     "output_type": "execute_result"
    }
   ],
   "source": [
    "mse = np.mean((predictions - board_games['average_rating']) ** 2)\n",
    "mse"
   ]
  },
  {
   "cell_type": "code",
   "execution_count": 21,
   "metadata": {
    "collapsed": false
   },
   "outputs": [
    {
     "data": {
      "image/png": "[encoded data removed]",
      "text/plain": [
       "<matplotlib.figure.Figure at 0x7f7890bb2748>"
      ]
     },
     "metadata": {},
     "output_type": "display_data"
    }
   ],
   "source": [
    "plt.scatter(board_games['average_rating'], predictions, c=labels)\n",
    "plt.show()"
   ]
  },
  {
   "cell_type": "code",
   "execution_count": 22,
   "metadata": {
    "collapsed": false
   },
   "outputs": [
    {
     "data": {
      "text/plain": [
       "0.51456869370544878"
      ]
     },
     "execution_count": 22,
     "metadata": {},
     "output_type": "execute_result"
    }
   ],
   "source": [
    "abs(std - mse)"
   ]
  }
 ],
 "metadata": {
  "kernelspec": {
   "display_name": "Python 3",
   "language": "python",
   "name": "python3"
  },
  "language_info": {
   "codemirror_mode": {
    "name": "ipython",
    "version": 3
   },
   "file_extension": ".py",
   "mimetype": "text/x-python",
   "name": "python",
   "nbconvert_exporter": "python",
   "pygments_lexer": "ipython3",
   "version": "3.4.3"
  }
 },
 "nbformat": 4,
 "nbformat_minor": 0
}
