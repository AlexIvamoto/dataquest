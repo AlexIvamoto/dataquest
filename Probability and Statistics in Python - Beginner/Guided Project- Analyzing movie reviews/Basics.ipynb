{
 "cells": [
  {
   "cell_type": "code",
   "execution_count": 1,
   "metadata": {
    "collapsed": true
   },
   "outputs": [],
   "source": [
    "import random\n",
    "import numpy as np\n",
    "import pandas as pd\n",
    "import matplotlib.pyplot as plt\n",
    "import seaborn as sns\n",
    "from scipy import stats\n",
    "%matplotlib inline"
   ]
  },
  {
   "cell_type": "code",
   "execution_count": 2,
   "metadata": {
    "collapsed": false
   },
   "outputs": [
    {
     "data": {
      "text/html": [
       "<div style=\"max-height:1000px;max-width:1500px;overflow:auto;\">\n",
       "<table border=\"1\" class=\"dataframe\">\n",
       "  <thead>\n",
       "    <tr style=\"text-align: right;\">\n",
       "      <th></th>\n",
       "      <th>FILM</th>\n",
       "      <th>RottenTomatoes</th>\n",
       "      <th>RottenTomatoes_User</th>\n",
       "      <th>Metacritic</th>\n",
       "      <th>Metacritic_User</th>\n",
       "      <th>IMDB</th>\n",
       "      <th>Fandango_Stars</th>\n",
       "      <th>Fandango_Ratingvalue</th>\n",
       "      <th>RT_norm</th>\n",
       "      <th>RT_user_norm</th>\n",
       "      <th>...</th>\n",
       "      <th>IMDB_norm</th>\n",
       "      <th>RT_norm_round</th>\n",
       "      <th>RT_user_norm_round</th>\n",
       "      <th>Metacritic_norm_round</th>\n",
       "      <th>Metacritic_user_norm_round</th>\n",
       "      <th>IMDB_norm_round</th>\n",
       "      <th>Metacritic_user_vote_count</th>\n",
       "      <th>IMDB_user_vote_count</th>\n",
       "      <th>Fandango_votes</th>\n",
       "      <th>Fandango_Difference</th>\n",
       "    </tr>\n",
       "  </thead>\n",
       "  <tbody>\n",
       "    <tr>\n",
       "      <th>0</th>\n",
       "      <td> Avengers: Age of Ultron (2015)</td>\n",
       "      <td> 74</td>\n",
       "      <td> 86</td>\n",
       "      <td> 66</td>\n",
       "      <td> 7.1</td>\n",
       "      <td> 7.8</td>\n",
       "      <td> 5.0</td>\n",
       "      <td> 4.5</td>\n",
       "      <td> 3.70</td>\n",
       "      <td> 4.3</td>\n",
       "      <td>...</td>\n",
       "      <td> 3.90</td>\n",
       "      <td> 3.5</td>\n",
       "      <td> 4.5</td>\n",
       "      <td> 3.5</td>\n",
       "      <td> 3.5</td>\n",
       "      <td> 4.0</td>\n",
       "      <td> 1330</td>\n",
       "      <td> 271107</td>\n",
       "      <td> 14846</td>\n",
       "      <td> 0.5</td>\n",
       "    </tr>\n",
       "    <tr>\n",
       "      <th>1</th>\n",
       "      <td>              Cinderella (2015)</td>\n",
       "      <td> 85</td>\n",
       "      <td> 80</td>\n",
       "      <td> 67</td>\n",
       "      <td> 7.5</td>\n",
       "      <td> 7.1</td>\n",
       "      <td> 5.0</td>\n",
       "      <td> 4.5</td>\n",
       "      <td> 4.25</td>\n",
       "      <td> 4.0</td>\n",
       "      <td>...</td>\n",
       "      <td> 3.55</td>\n",
       "      <td> 4.5</td>\n",
       "      <td> 4.0</td>\n",
       "      <td> 3.5</td>\n",
       "      <td> 4.0</td>\n",
       "      <td> 3.5</td>\n",
       "      <td>  249</td>\n",
       "      <td>  65709</td>\n",
       "      <td> 12640</td>\n",
       "      <td> 0.5</td>\n",
       "    </tr>\n",
       "    <tr>\n",
       "      <th>2</th>\n",
       "      <td>                 Ant-Man (2015)</td>\n",
       "      <td> 80</td>\n",
       "      <td> 90</td>\n",
       "      <td> 64</td>\n",
       "      <td> 8.1</td>\n",
       "      <td> 7.8</td>\n",
       "      <td> 5.0</td>\n",
       "      <td> 4.5</td>\n",
       "      <td> 4.00</td>\n",
       "      <td> 4.5</td>\n",
       "      <td>...</td>\n",
       "      <td> 3.90</td>\n",
       "      <td> 4.0</td>\n",
       "      <td> 4.5</td>\n",
       "      <td> 3.0</td>\n",
       "      <td> 4.0</td>\n",
       "      <td> 4.0</td>\n",
       "      <td>  627</td>\n",
       "      <td> 103660</td>\n",
       "      <td> 12055</td>\n",
       "      <td> 0.5</td>\n",
       "    </tr>\n",
       "    <tr>\n",
       "      <th>3</th>\n",
       "      <td>         Do You Believe? (2015)</td>\n",
       "      <td> 18</td>\n",
       "      <td> 84</td>\n",
       "      <td> 22</td>\n",
       "      <td> 4.7</td>\n",
       "      <td> 5.4</td>\n",
       "      <td> 5.0</td>\n",
       "      <td> 4.5</td>\n",
       "      <td> 0.90</td>\n",
       "      <td> 4.2</td>\n",
       "      <td>...</td>\n",
       "      <td> 2.70</td>\n",
       "      <td> 1.0</td>\n",
       "      <td> 4.0</td>\n",
       "      <td> 1.0</td>\n",
       "      <td> 2.5</td>\n",
       "      <td> 2.5</td>\n",
       "      <td>   31</td>\n",
       "      <td>   3136</td>\n",
       "      <td>  1793</td>\n",
       "      <td> 0.5</td>\n",
       "    </tr>\n",
       "    <tr>\n",
       "      <th>4</th>\n",
       "      <td>  Hot Tub Time Machine 2 (2015)</td>\n",
       "      <td> 14</td>\n",
       "      <td> 28</td>\n",
       "      <td> 29</td>\n",
       "      <td> 3.4</td>\n",
       "      <td> 5.1</td>\n",
       "      <td> 3.5</td>\n",
       "      <td> 3.0</td>\n",
       "      <td> 0.70</td>\n",
       "      <td> 1.4</td>\n",
       "      <td>...</td>\n",
       "      <td> 2.55</td>\n",
       "      <td> 0.5</td>\n",
       "      <td> 1.5</td>\n",
       "      <td> 1.5</td>\n",
       "      <td> 1.5</td>\n",
       "      <td> 2.5</td>\n",
       "      <td>   88</td>\n",
       "      <td>  19560</td>\n",
       "      <td>  1021</td>\n",
       "      <td> 0.5</td>\n",
       "    </tr>\n",
       "  </tbody>\n",
       "</table>\n",
       "<p>5 rows × 22 columns</p>\n",
       "</div>"
      ],
      "text/plain": [
       "                             FILM  RottenTomatoes  RottenTomatoes_User  \\\n",
       "0  Avengers: Age of Ultron (2015)              74                   86   \n",
       "1               Cinderella (2015)              85                   80   \n",
       "2                  Ant-Man (2015)              80                   90   \n",
       "3          Do You Believe? (2015)              18                   84   \n",
       "4   Hot Tub Time Machine 2 (2015)              14                   28   \n",
       "\n",
       "   Metacritic  Metacritic_User  IMDB  Fandango_Stars  Fandango_Ratingvalue  \\\n",
       "0          66              7.1   7.8             5.0                   4.5   \n",
       "1          67              7.5   7.1             5.0                   4.5   \n",
       "2          64              8.1   7.8             5.0                   4.5   \n",
       "3          22              4.7   5.4             5.0                   4.5   \n",
       "4          29              3.4   5.1             3.5                   3.0   \n",
       "\n",
       "   RT_norm  RT_user_norm         ...           IMDB_norm  RT_norm_round  \\\n",
       "0     3.70           4.3         ...                3.90            3.5   \n",
       "1     4.25           4.0         ...                3.55            4.5   \n",
       "2     4.00           4.5         ...                3.90            4.0   \n",
       "3     0.90           4.2         ...                2.70            1.0   \n",
       "4     0.70           1.4         ...                2.55            0.5   \n",
       "\n",
       "   RT_user_norm_round  Metacritic_norm_round  Metacritic_user_norm_round  \\\n",
       "0                 4.5                    3.5                         3.5   \n",
       "1                 4.0                    3.5                         4.0   \n",
       "2                 4.5                    3.0                         4.0   \n",
       "3                 4.0                    1.0                         2.5   \n",
       "4                 1.5                    1.5                         1.5   \n",
       "\n",
       "   IMDB_norm_round  Metacritic_user_vote_count  IMDB_user_vote_count  \\\n",
       "0              4.0                        1330                271107   \n",
       "1              3.5                         249                 65709   \n",
       "2              4.0                         627                103660   \n",
       "3              2.5                          31                  3136   \n",
       "4              2.5                          88                 19560   \n",
       "\n",
       "   Fandango_votes  Fandango_Difference  \n",
       "0           14846                  0.5  \n",
       "1           12640                  0.5  \n",
       "2           12055                  0.5  \n",
       "3            1793                  0.5  \n",
       "4            1021                  0.5  \n",
       "\n",
       "[5 rows x 22 columns]"
      ]
     },
     "execution_count": 2,
     "metadata": {},
     "output_type": "execute_result"
    }
   ],
   "source": [
    "df = pd.read_csv('fandango_score_comparison.csv')\n",
    "df.head()"
   ]
  },
  {
   "cell_type": "code",
   "execution_count": 3,
   "metadata": {
    "collapsed": false
   },
   "outputs": [
    {
     "data": {
      "image/png": "[encoded data removed]",
      "text/plain": [
       "<matplotlib.figure.Figure at 0x7f00441677b8>"
      ]
     },
     "metadata": {},
     "output_type": "display_data"
    }
   ],
   "source": [
    "df['Metacritic_norm_round'].plot(kind='hist')\n",
    "sns.plt.show()"
   ]
  },
  {
   "cell_type": "code",
   "execution_count": 4,
   "metadata": {
    "collapsed": false
   },
   "outputs": [
    {
     "data": {
      "image/png": "[encoded data removed]",
      "text/plain": [
       "<matplotlib.figure.Figure at 0x7f00440f0208>"
      ]
     },
     "metadata": {},
     "output_type": "display_data"
    }
   ],
   "source": [
    "df['Fandango_Stars'].plot(kind='hist')\n",
    "sns.plt.show()"
   ]
  },
  {
   "cell_type": "code",
   "execution_count": 5,
   "metadata": {
    "collapsed": false
   },
   "outputs": [
    {
     "name": "stdout",
     "output_type": "stream",
     "text": [
      "2.97260273973\n",
      "3.0\n",
      "0.990960561374\n"
     ]
    }
   ],
   "source": [
    "print(df['Metacritic_norm_round'].mean())\n",
    "print(df['Metacritic_norm_round'].median())\n",
    "print(df['Metacritic_norm_round'].std())"
   ]
  },
  {
   "cell_type": "code",
   "execution_count": 6,
   "metadata": {
    "collapsed": false
   },
   "outputs": [
    {
     "name": "stdout",
     "output_type": "stream",
     "text": [
      "4.08904109589\n",
      "4.0\n",
      "0.540385977979\n"
     ]
    }
   ],
   "source": [
    "print(df['Fandango_Stars'].mean())\n",
    "print(df['Fandango_Stars'].median())\n",
    "print(df['Fandango_Stars'].std())"
   ]
  },
  {
   "cell_type": "code",
   "execution_count": 7,
   "metadata": {
    "collapsed": false
   },
   "outputs": [
    {
     "data": {
      "image/png": "[encoded data removed]",
      "text/plain": [
       "<matplotlib.figure.Figure at 0x7f0043fdc940>"
      ]
     },
     "metadata": {},
     "output_type": "display_data"
    }
   ],
   "source": [
    "plt.scatter(df['Metacritic_norm_round'], df['Fandango_Stars'])\n",
    "sns.plt.show()"
   ]
  },
  {
   "cell_type": "code",
   "execution_count": 8,
   "metadata": {
    "collapsed": false
   },
   "outputs": [
    {
     "data": {
      "text/html": [
       "<div style=\"max-height:1000px;max-width:1500px;overflow:auto;\">\n",
       "<table border=\"1\" class=\"dataframe\">\n",
       "  <thead>\n",
       "    <tr style=\"text-align: right;\">\n",
       "      <th></th>\n",
       "      <th>FILM</th>\n",
       "      <th>RottenTomatoes</th>\n",
       "      <th>RottenTomatoes_User</th>\n",
       "      <th>Metacritic</th>\n",
       "      <th>Metacritic_User</th>\n",
       "      <th>IMDB</th>\n",
       "      <th>Fandango_Stars</th>\n",
       "      <th>Fandango_Ratingvalue</th>\n",
       "      <th>RT_norm</th>\n",
       "      <th>RT_user_norm</th>\n",
       "      <th>...</th>\n",
       "      <th>RT_norm_round</th>\n",
       "      <th>RT_user_norm_round</th>\n",
       "      <th>Metacritic_norm_round</th>\n",
       "      <th>Metacritic_user_norm_round</th>\n",
       "      <th>IMDB_norm_round</th>\n",
       "      <th>Metacritic_user_vote_count</th>\n",
       "      <th>IMDB_user_vote_count</th>\n",
       "      <th>Fandango_votes</th>\n",
       "      <th>Fandango_Difference</th>\n",
       "      <th>fm_diff</th>\n",
       "    </tr>\n",
       "  </thead>\n",
       "  <tbody>\n",
       "    <tr>\n",
       "      <th>3  </th>\n",
       "      <td>  Do You Believe? (2015)</td>\n",
       "      <td> 18</td>\n",
       "      <td> 84</td>\n",
       "      <td> 22</td>\n",
       "      <td> 4.7</td>\n",
       "      <td> 5.4</td>\n",
       "      <td> 5.0</td>\n",
       "      <td> 4.5</td>\n",
       "      <td> 0.90</td>\n",
       "      <td> 4.20</td>\n",
       "      <td>...</td>\n",
       "      <td> 1.0</td>\n",
       "      <td> 4.0</td>\n",
       "      <td> 1.0</td>\n",
       "      <td> 2.5</td>\n",
       "      <td> 2.5</td>\n",
       "      <td>  31</td>\n",
       "      <td>  3136</td>\n",
       "      <td> 1793</td>\n",
       "      <td> 0.5</td>\n",
       "      <td> 4</td>\n",
       "    </tr>\n",
       "    <tr>\n",
       "      <th>85 </th>\n",
       "      <td>       Little Boy (2015)</td>\n",
       "      <td> 20</td>\n",
       "      <td> 81</td>\n",
       "      <td> 30</td>\n",
       "      <td> 5.9</td>\n",
       "      <td> 7.4</td>\n",
       "      <td> 4.5</td>\n",
       "      <td> 4.3</td>\n",
       "      <td> 1.00</td>\n",
       "      <td> 4.05</td>\n",
       "      <td>...</td>\n",
       "      <td> 1.0</td>\n",
       "      <td> 4.0</td>\n",
       "      <td> 1.5</td>\n",
       "      <td> 3.0</td>\n",
       "      <td> 3.5</td>\n",
       "      <td>  38</td>\n",
       "      <td>  5927</td>\n",
       "      <td>  811</td>\n",
       "      <td> 0.2</td>\n",
       "      <td> 3</td>\n",
       "    </tr>\n",
       "    <tr>\n",
       "      <th>47 </th>\n",
       "      <td>            Annie (2014)</td>\n",
       "      <td> 27</td>\n",
       "      <td> 61</td>\n",
       "      <td> 33</td>\n",
       "      <td> 4.8</td>\n",
       "      <td> 5.2</td>\n",
       "      <td> 4.5</td>\n",
       "      <td> 4.2</td>\n",
       "      <td> 1.35</td>\n",
       "      <td> 3.05</td>\n",
       "      <td>...</td>\n",
       "      <td> 1.5</td>\n",
       "      <td> 3.0</td>\n",
       "      <td> 1.5</td>\n",
       "      <td> 2.5</td>\n",
       "      <td> 2.5</td>\n",
       "      <td> 108</td>\n",
       "      <td> 19222</td>\n",
       "      <td> 6835</td>\n",
       "      <td> 0.3</td>\n",
       "      <td> 3</td>\n",
       "    </tr>\n",
       "    <tr>\n",
       "      <th>19 </th>\n",
       "      <td>           Pixels (2015)</td>\n",
       "      <td> 17</td>\n",
       "      <td> 54</td>\n",
       "      <td> 27</td>\n",
       "      <td> 5.3</td>\n",
       "      <td> 5.6</td>\n",
       "      <td> 4.5</td>\n",
       "      <td> 4.1</td>\n",
       "      <td> 0.85</td>\n",
       "      <td> 2.70</td>\n",
       "      <td>...</td>\n",
       "      <td> 1.0</td>\n",
       "      <td> 2.5</td>\n",
       "      <td> 1.5</td>\n",
       "      <td> 2.5</td>\n",
       "      <td> 3.0</td>\n",
       "      <td> 246</td>\n",
       "      <td> 19521</td>\n",
       "      <td> 3886</td>\n",
       "      <td> 0.4</td>\n",
       "      <td> 3</td>\n",
       "    </tr>\n",
       "    <tr>\n",
       "      <th>134</th>\n",
       "      <td> The Longest Ride (2015)</td>\n",
       "      <td> 31</td>\n",
       "      <td> 73</td>\n",
       "      <td> 33</td>\n",
       "      <td> 4.8</td>\n",
       "      <td> 7.2</td>\n",
       "      <td> 4.5</td>\n",
       "      <td> 4.5</td>\n",
       "      <td> 1.55</td>\n",
       "      <td> 3.65</td>\n",
       "      <td>...</td>\n",
       "      <td> 1.5</td>\n",
       "      <td> 3.5</td>\n",
       "      <td> 1.5</td>\n",
       "      <td> 2.5</td>\n",
       "      <td> 3.5</td>\n",
       "      <td>  49</td>\n",
       "      <td> 25214</td>\n",
       "      <td> 2603</td>\n",
       "      <td> 0.0</td>\n",
       "      <td> 3</td>\n",
       "    </tr>\n",
       "  </tbody>\n",
       "</table>\n",
       "<p>5 rows × 23 columns</p>\n",
       "</div>"
      ],
      "text/plain": [
       "                        FILM  RottenTomatoes  RottenTomatoes_User  Metacritic  \\\n",
       "3     Do You Believe? (2015)              18                   84          22   \n",
       "85         Little Boy (2015)              20                   81          30   \n",
       "47              Annie (2014)              27                   61          33   \n",
       "19             Pixels (2015)              17                   54          27   \n",
       "134  The Longest Ride (2015)              31                   73          33   \n",
       "\n",
       "     Metacritic_User  IMDB  Fandango_Stars  Fandango_Ratingvalue  RT_norm  \\\n",
       "3                4.7   5.4             5.0                   4.5     0.90   \n",
       "85               5.9   7.4             4.5                   4.3     1.00   \n",
       "47               4.8   5.2             4.5                   4.2     1.35   \n",
       "19               5.3   5.6             4.5                   4.1     0.85   \n",
       "134              4.8   7.2             4.5                   4.5     1.55   \n",
       "\n",
       "     RT_user_norm   ...     RT_norm_round  RT_user_norm_round  \\\n",
       "3            4.20   ...               1.0                 4.0   \n",
       "85           4.05   ...               1.0                 4.0   \n",
       "47           3.05   ...               1.5                 3.0   \n",
       "19           2.70   ...               1.0                 2.5   \n",
       "134          3.65   ...               1.5                 3.5   \n",
       "\n",
       "     Metacritic_norm_round  Metacritic_user_norm_round  IMDB_norm_round  \\\n",
       "3                      1.0                         2.5              2.5   \n",
       "85                     1.5                         3.0              3.5   \n",
       "47                     1.5                         2.5              2.5   \n",
       "19                     1.5                         2.5              3.0   \n",
       "134                    1.5                         2.5              3.5   \n",
       "\n",
       "     Metacritic_user_vote_count  IMDB_user_vote_count  Fandango_votes  \\\n",
       "3                            31                  3136            1793   \n",
       "85                           38                  5927             811   \n",
       "47                          108                 19222            6835   \n",
       "19                          246                 19521            3886   \n",
       "134                          49                 25214            2603   \n",
       "\n",
       "     Fandango_Difference  fm_diff  \n",
       "3                    0.5        4  \n",
       "85                   0.2        3  \n",
       "47                   0.3        3  \n",
       "19                   0.4        3  \n",
       "134                  0.0        3  \n",
       "\n",
       "[5 rows x 23 columns]"
      ]
     },
     "execution_count": 8,
     "metadata": {},
     "output_type": "execute_result"
    }
   ],
   "source": [
    "df[\"fm_diff\"] = np.abs(df[\"Metacritic_norm_round\"] - df[\"Fandango_Stars\"])\n",
    "df.sort(\"fm_diff\", ascending=False).head(5)"
   ]
  },
  {
   "cell_type": "code",
   "execution_count": 9,
   "metadata": {
    "collapsed": false
   },
   "outputs": [
    {
     "data": {
      "text/plain": [
       "0.17844919073895918"
      ]
     },
     "execution_count": 9,
     "metadata": {},
     "output_type": "execute_result"
    }
   ],
   "source": [
    "r, p = stats.pearsonr(df['Metacritic_norm_round'], df['Fandango_Stars'])\n",
    "r"
   ]
  },
  {
   "cell_type": "code",
   "execution_count": 10,
   "metadata": {
    "collapsed": false
   },
   "outputs": [
    {
     "data": {
      "text/plain": [
       "(0.097311077973928267,\n",
       " 3.7997739188994188,\n",
       " 0.17844919073895882,\n",
       " 0.031161516228524384,\n",
       " 0.044713544656798304)"
      ]
     },
     "execution_count": 10,
     "metadata": {},
     "output_type": "execute_result"
    }
   ],
   "source": [
    "slope, intercept, r_value, p_value, std_err = stats.linregress(df['Metacritic_norm_round'], df['Fandango_Stars'])\n",
    "slope, intercept, r_value, p_value, std_err"
   ]
  },
  {
   "cell_type": "code",
   "execution_count": 11,
   "metadata": {
    "collapsed": false
   },
   "outputs": [
    {
     "data": {
      "text/plain": [
       "4.0917071528212041"
      ]
     },
     "execution_count": 11,
     "metadata": {},
     "output_type": "execute_result"
    }
   ],
   "source": [
    "slope * 3.0 + intercept"
   ]
  },
  {
   "cell_type": "code",
   "execution_count": 12,
   "metadata": {
    "collapsed": false
   },
   "outputs": [
    {
     "data": {
      "image/png": "[encoded data removed]",
      "text/plain": [
       "<matplotlib.figure.Figure at 0x7f0043fdc828>"
      ]
     },
     "metadata": {},
     "output_type": "display_data"
    }
   ],
   "source": [
    "random.seed(1)\n",
    "random_100 = [random.randint(0, 5) for _ in range(100)]\n",
    "random_100_x = np.array(random_100)\n",
    "random_100_y = random_100_x * slope + intercept\n",
    "fig = plt.figure(figsize=(16, 16))\n",
    "ax = fig.add_subplot(111)\n",
    "ax.plot(random_100_x, random_100_y, c='r', label='Prediction')\n",
    "ax.scatter(df['Metacritic_norm_round'], df['Fandango_Stars'], c='b', label='Real')\n",
    "plt.legend(loc='upper left');\n",
    "plt.xlabel('Metacritic_norm_round')\n",
    "plt.ylabel('Fandango_Stars')\n",
    "ax.set_xlim([-0.5, 5.5])\n",
    "ax.set_ylim([-0.5, 5.5])\n",
    "sns.plt.show()"
   ]
  }
 ],
 "metadata": {
  "kernelspec": {
   "display_name": "Python 3",
   "language": "python",
   "name": "python3"
  },
  "language_info": {
   "codemirror_mode": {
    "name": "ipython",
    "version": 3
   },
   "file_extension": ".py",
   "mimetype": "text/x-python",
   "name": "python",
   "nbconvert_exporter": "python",
   "pygments_lexer": "ipython3",
   "version": "3.4.3"
  }
 },
 "nbformat": 4,
 "nbformat_minor": 0
}
